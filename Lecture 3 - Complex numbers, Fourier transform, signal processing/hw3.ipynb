{
 "cells": [
  {
   "attachments": {},
   "cell_type": "markdown",
   "metadata": {
    "deletable": false,
    "editable": false,
    "id": "Awbm6-osqNkm",
    "nbgrader": {
     "cell_type": "markdown",
     "checksum": "e740b37ecdcad43812d65037607f8027",
     "grade": false,
     "grade_id": "cell-7a5d7ec5c86e3240",
     "locked": true,
     "schema_version": 3,
     "solution": false,
     "task": false
    }
   },
   "source": [
    "# Assignment 3: Complex numbers and Fourier transform\n",
    "### Due Date (22.5 - 23:59) "
   ]
  },
  {
   "cell_type": "markdown",
   "metadata": {
    "deletable": false,
    "editable": false,
    "nbgrader": {
     "cell_type": "markdown",
     "checksum": "858b311779f3ba4380a0f7a5cbc6fe95",
     "grade": false,
     "grade_id": "cell-766f4d7a5c7cc969",
     "locked": true,
     "schema_version": 3,
     "solution": false,
     "task": false
    }
   },
   "source": [
    "<a id=\"gen_instructions\"></a>\n",
    "## Working on the assignment, todo and not todo:\n",
    "<b><u>Todo</u></b>:<br />\n",
    "<div class=\"alert alert-success\">\n",
    "<ul><li>&#x2714; <b> Work by yourself</b> and submit your own assignment, <b>no pairing</b> to other students</li>\n",
    "<li>&#x2714; Test and save your assignment - <b>submit the last tested and saved version</b></li>\n",
    "<li>&#x2714; to <b>submit</b> the assignment, download the notebook (File → Download .ipynb in Google Colab)</li>\n",
    "<li>&#x2714; submit <b>only</b> the <b>ipynb</b> file under the name <b>hw3.ipynb</b></li>\n",
    "<li>&#x2714; It is advisable to add extra cells to check your code implementation</li></ul>\n",
    "</div>\n",
    "<b><u>Not todo</u></b>:<br />\n",
    "<div class=\"alert alert-danger\">\n",
    "<ul><li>&#x2718; do <b>NOT</b> submit an <b>empty assignment</b></li>\n",
    "<li>&#x2718; do <b>NOT submit extra files</b>, <u>unless you're asked to do so</u></li>\n",
    "<li>&#x2718; <b>Do NOT submit a .py/.txt/.rar/.zip (or any non (.ipynb) file)</b> <u>version for the notebook</u> of the assignment</li>\n",
    "<li>&#x2718; <b>do NOT change</b> the notebook file name</li></ul>\n",
    "</div>\n",
    "<b><u>Not good - Any of the following</u></b>:<br/>\n",
    "<div class=\"alert alert-danger\">\n",
    "<ul><li>&#x2718; Code not Implemented</li>\n",
    "<li>&#x2718; No returned value</li>\n",
    "<li>&#x2718; Did not remove the '<code>raise NotImplementedError()</code>' line</li></ul>\n",
    "<code># --------------------------- (AFTER YOUR IMPLEMENTATION) RUN THIS CODE CELL  -------------------------------------\n",
    "'''\n",
    "What do you need to do?\n",
    "\n",
    "Complete the 'method_to_implement' function to do something (some explanation ...) and\n",
    "     return that value back\n",
    "'''\n",
    "def method_to_implement():\n",
    "    # YOUR CODE HERE\n",
    "    raise NotImplementedError()\n",
    "</code></div>\n"
   ]
  },
  {
   "cell_type": "code",
   "execution_count": null,
   "metadata": {
    "deletable": false,
    "editable": false,
    "id": "_nUXypXPq8Dn",
    "nbgrader": {
     "cell_type": "code",
     "checksum": "d47d87d468b7b2392c20e4b44202dfdf",
     "grade": false,
     "grade_id": "cell-312d939bd8d8c584",
     "locked": true,
     "schema_version": 3,
     "solution": false,
     "task": false
    }
   },
   "outputs": [],
   "source": [
    "# import librarys : \n",
    "import matplotlib.pyplot as plt\n",
    "import numpy as np\n",
    "import numpy.testing as npt\n",
    "from scipy import fftpack\n",
    "from matplotlib.colors import LogNorm\n",
    "from unittest.mock import patch\n",
    "np.random.seed(42)"
   ]
  },
  {
   "cell_type": "markdown",
   "metadata": {
    "deletable": false,
    "editable": false,
    "id": "r4AmwNTRqUy6",
    "nbgrader": {
     "cell_type": "markdown",
     "checksum": "45f70539640452afe3c31818d12ae7da",
     "grade": false,
     "grade_id": "cell-cc14143a7a835076",
     "locked": true,
     "schema_version": 3,
     "solution": false,
     "task": false
    }
   },
   "source": [
    "## Question 1: Complex exponent\n",
    "\n",
    "Complex exponent is the complex version of the library function `exp`. \n",
    "\n",
    "<div class=\"alert alert-danger\">\n",
    "Throughout this question, when you are asked to implement a formula, you must implement the exact formula as written in the question, and you may not use the built in operations of python libraries! \n",
    "</div>"
   ]
  },
  {
   "cell_type": "markdown",
   "metadata": {
    "deletable": false,
    "editable": false,
    "id": "g3iKPUnFye_k",
    "nbgrader": {
     "cell_type": "markdown",
     "checksum": "e1ca54bb94707deb9d3985b4c821995a",
     "grade": false,
     "grade_id": "cell-33b0541dba98f05d",
     "locked": true,
     "schema_version": 3,
     "solution": false,
     "task": false
    }
   },
   "source": [
    "\n",
    "Q1.1 Implement complex exponent using real-valued functions from the `numpy` library. Use Euler's formula for the exponent complex number, as in the formula below<br><br>\n",
    "**Euler's formula** $$e^{a+ib}=e^a⋅(cosb+isinb)$$\n",
    "<pre> \n",
    "compute complex_exponent(z)\n",
    "------------\n",
    "Input parameters:\n",
    "- z - complex number (a+bi)\n",
    "------------\n",
    "return value:\n",
    "- cexp - complex exponent\n",
    "------------\n",
    "</pre>"
   ]
  },
  {
   "cell_type": "code",
   "execution_count": null,
   "metadata": {
    "colab": {
     "base_uri": "https://localhost:8080/"
    },
    "deletable": false,
    "id": "NiVNcRChyuB5",
    "nbgrader": {
     "cell_type": "code",
     "checksum": "94c8841e0105f7c9fc2c5bef587d9b7c",
     "grade": false,
     "grade_id": "cell-1f2faa78562b319c",
     "locked": false,
     "schema_version": 3,
     "solution": true,
     "task": false
    },
    "outputId": "87b72abd-2048-4e2d-e367-827b1878afee"
   },
   "outputs": [],
   "source": [
    "def complex_exponent(z):\n",
    "    # YOUR CODE HERE\n",
    "    raise NotImplementedError()"
   ]
  },
  {
   "cell_type": "code",
   "execution_count": null,
   "metadata": {
    "deletable": false,
    "editable": false,
    "nbgrader": {
     "cell_type": "code",
     "checksum": "555863c42c6b8799e636d72b1bcda47a",
     "grade": true,
     "grade_id": "cell-d7caf9133b0580d2",
     "locked": true,
     "points": 2,
     "schema_version": 3,
     "solution": false,
     "task": false
    }
   },
   "outputs": [],
   "source": [
    "# --------------------------- RUN THIS TEST CODE CELL -------------------------------------\n",
    "# Q1.1 --- Test your implementation:\n",
    "# ---------------------------\n",
    "print (\"Test - Testing the implementation of the 'complex_exponent' function..\\n \")\n",
    "z = 0+0j\n",
    "print(f'complex number z = {z}')\n",
    "print(f\"your real number is z.real = {z.real}\")\n",
    "print(f\"your imagnary number is z.imag = {z.imag}\")\n",
    "print(f\"complex euler of z is ℯᶻ = {complex_exponent(z)}\")\n",
    "assert 1+0j == complex_exponent(z)\n",
    "\n",
    "\n",
    "print (\"good job!\\nSanity tests passed. There are additional hidden tests...\")\n"
   ]
  },
  {
   "cell_type": "markdown",
   "metadata": {
    "deletable": false,
    "editable": false,
    "nbgrader": {
     "cell_type": "markdown",
     "checksum": "b6cacd56fa717649c48c16d94cc408ee",
     "grade": false,
     "grade_id": "cell-e0323155add9ee15",
     "locked": true,
     "schema_version": 3,
     "solution": false,
     "task": false
    }
   },
   "source": [
    "Q1.2 Implement addition operation on two complex numbers as in the formula below .<br><br>\n",
    "**complex addition formula** $$(a + bi) + (c + di) = (a + c) + (b + d)i$$\n",
    "<pre> \n",
    "compute complex_addition(z1,z2) \n",
    "------------\n",
    "Input parameters:\n",
    "- z1 - complex number (a + bi)\n",
    "- z2 - complex number (c + di)\n",
    "------------\n",
    "return value:\n",
    "- z - addition result complex number\n",
    "------------\n",
    "</pre>\n"
   ]
  },
  {
   "cell_type": "code",
   "execution_count": null,
   "metadata": {
    "deletable": false,
    "nbgrader": {
     "cell_type": "code",
     "checksum": "e562de07c1eb602bbcc3dec79f3286a3",
     "grade": false,
     "grade_id": "cell-95fea2ef23e5280a",
     "locked": false,
     "schema_version": 3,
     "solution": true,
     "task": false
    }
   },
   "outputs": [],
   "source": [
    "def complex_addition(z1,z2):\n",
    "    # YOUR CODE HERE\n",
    "    raise NotImplementedError()"
   ]
  },
  {
   "cell_type": "code",
   "execution_count": null,
   "metadata": {
    "deletable": false,
    "editable": false,
    "nbgrader": {
     "cell_type": "code",
     "checksum": "6325bfc39a6898bbf363bcc9af241085",
     "grade": true,
     "grade_id": "cell-44a26f249a2ef03f",
     "locked": true,
     "points": 2,
     "schema_version": 3,
     "solution": false,
     "task": false
    }
   },
   "outputs": [],
   "source": [
    "# --------------------------- RUN THIS TEST CODE CELL -------------------------------------\n",
    "# Q1.2 --- Test your implementation:\n",
    "# ---------------------------\n",
    "print (\"Test - Testing the implementation of the 'complex_addition' function..\\n \")\n",
    "z1 = 0+1j\n",
    "z2 = 1+0j\n",
    "print(f'complex number z1 = {z1}')\n",
    "print(f'complex number z2 = {z2}')\n",
    "print(f'your addition result number is  = {complex_addition(z1,z2)}')\n",
    "\n",
    "assert 1+1j == complex_addition(z1,z2)\n",
    "\n",
    "print (\"good job!\\nSanity tests passed. There are additional hidden tests...\")\n"
   ]
  },
  {
   "cell_type": "markdown",
   "metadata": {},
   "source": [
    "Q1.3 Implement convert_to_polar on a complex number which given a complex number of the cartesian form $$z=a+bi$$ converts it to its polar form $$z=r\\cdot e^{i\\theta}$$\n",
    "You can use np.abosulte and np.angle\n",
    "<pre> \n",
    "compute convert_to_polar(z) \n",
    "------------\n",
    "Input parameters:\n",
    "- z - complex number (a + bi)\n",
    "------------\n",
    "return value:\n",
    "- z_polar - polar form of z\n",
    "------------\n",
    "</pre>"
   ]
  },
  {
   "cell_type": "code",
   "execution_count": null,
   "metadata": {},
   "outputs": [],
   "source": [
    "def convert_to_polar(z):\n",
    "    # YOUR CODE HERE\n",
    "    raise NotImplementedError()"
   ]
  },
  {
   "cell_type": "code",
   "execution_count": null,
   "metadata": {},
   "outputs": [],
   "source": [
    "# --------------------------- RUN THIS TEST CODE CELL -------------------------------------\n",
    "# Q1.3 --- Test your implementation:\n",
    "# ---------------------------\n",
    "print (\"Test - Testing the implementation of the 'convert_to_polar' function..\\n \")\n",
    "z = 1+1j\n",
    "print(f'complex number z = {z}')\n",
    "print(f'your polar form is  = {convert_to_polar(z)}')\n",
    "\n",
    "print (\"good job!\\nSanity tests passed. There are additional hidden tests...\")\n"
   ]
  },
  {
   "cell_type": "markdown",
   "metadata": {
    "deletable": false,
    "editable": false,
    "nbgrader": {
     "cell_type": "markdown",
     "checksum": "138de566c271dd12af85f6bd2c6a9f15",
     "grade": false,
     "grade_id": "cell-4c06fb6f046b0a6e",
     "locked": true,
     "schema_version": 3,
     "solution": false,
     "task": false
    }
   },
   "source": [
    "Q1.4 Implement division operation on two complex numbers as in the formula below. guidance: you can use np.absolute() and np.angle() <br><br>\n",
    "**complex division formula** $$ \\frac{r_{1}\\cdot e^{i\\theta_{1}}}{r_{2}\\cdot e^{i\\theta_{2}}} = \\frac{r_{1}}{r_{2}} ⋅ e^{i(\\theta_{1}-\\theta_{2})} $$\n",
    "<pre> \n",
    "compute complex_div(z1,z2) \n",
    "------------\n",
    "Input parameters:\n",
    "- z1 - complex number (r1 * exp(θ1⋅i))\n",
    "- z2 - complex number (r2 * exp(θ2⋅i))\n",
    "------------\n",
    "return value:\n",
    "- z - division result complex number\n",
    "------------\n",
    "</pre>\n"
   ]
  },
  {
   "cell_type": "code",
   "execution_count": null,
   "metadata": {
    "deletable": false,
    "nbgrader": {
     "cell_type": "code",
     "checksum": "004c14c96a3dfab611c52f819960f8d6",
     "grade": false,
     "grade_id": "cell-57c68f6c686fa47a",
     "locked": false,
     "schema_version": 3,
     "solution": true,
     "task": false
    }
   },
   "outputs": [],
   "source": [
    "def complex_div(z1,z2):\n",
    "    # YOUR CODE HERE\n",
    "    raise NotImplementedError()"
   ]
  },
  {
   "cell_type": "code",
   "execution_count": null,
   "metadata": {
    "deletable": false,
    "editable": false,
    "nbgrader": {
     "cell_type": "code",
     "checksum": "9550d90133e4284d7be5d7ce5dfcfed7",
     "grade": true,
     "grade_id": "cell-710c3582c36821f4",
     "locked": true,
     "points": 2,
     "schema_version": 3,
     "solution": false,
     "task": false
    }
   },
   "outputs": [],
   "source": [
    "# --------------------------- RUN THIS TEST CODE CELL -------------------------------------\n",
    "# Q1.4 --- Test your implementation:\n",
    "# ---------------------------\n",
    "print (\"Test - Testing the implementation of the 'complex_addition' function..\\n \")\n",
    "z1 = 1+1j\n",
    "z2 = 1+1j\n",
    "print(f'complex number z1 = {z1}')\n",
    "print(f'complex number z2 = {z2}')\n",
    "print(f'your division result number is  = {complex_div(z1,z2)}')\n",
    "print(f'if your number is close enough to the real result it\\'s fine')\n",
    "\n",
    "npt.assert_almost_equal( z1/z2 , complex_div(z1,z2) )\n",
    "\n",
    "\n",
    "print (\"good job!\\nSanity tests passed. There are additional hidden tests...\")\n"
   ]
  },
  {
   "cell_type": "markdown",
   "metadata": {
    "deletable": false,
    "editable": false,
    "id": "i_RDxod2zsPG",
    "nbgrader": {
     "cell_type": "markdown",
     "checksum": "0e5be8b2666a1fa8a6467a901f8d2582",
     "grade": false,
     "grade_id": "cell-9f950f41d5786ded",
     "locked": true,
     "schema_version": 3,
     "solution": false,
     "task": false
    }
   },
   "source": [
    "Q1.5 Implement Conjugate operation on complex number without using built in np.conj function\n",
    "<pre> \n",
    "compute conjug(z) \n",
    "------------\n",
    "Input parameters:\n",
    "- z - complex number (a + bi)\n",
    "------------\n",
    "return value:\n",
    "- z - Conjugate operation result as complex number\n",
    "------------\n",
    "</pre>\n"
   ]
  },
  {
   "cell_type": "code",
   "execution_count": null,
   "metadata": {
    "deletable": false,
    "id": "9BMXfYiR2uLC",
    "nbgrader": {
     "cell_type": "code",
     "checksum": "3a3916a681369e803c400840bb9fa683",
     "grade": false,
     "grade_id": "cell-4419cea85136f070",
     "locked": false,
     "schema_version": 3,
     "solution": true,
     "task": false
    }
   },
   "outputs": [],
   "source": [
    "def conjug(z):\n",
    "    # YOUR CODE HERE\n",
    "    raise NotImplementedError()"
   ]
  },
  {
   "cell_type": "code",
   "execution_count": null,
   "metadata": {
    "colab": {
     "base_uri": "https://localhost:8080/"
    },
    "deletable": false,
    "editable": false,
    "id": "V6QLJiNSnfOO",
    "nbgrader": {
     "cell_type": "code",
     "checksum": "ff9a276b0185403d6405244600eee19e",
     "grade": true,
     "grade_id": "cell-4d1520199c15506e",
     "locked": true,
     "points": 2,
     "schema_version": 3,
     "solution": false,
     "task": false
    },
    "outputId": "ca28a885-8825-41dd-9a8c-e96acadafba1"
   },
   "outputs": [],
   "source": [
    "# --------------------------- RUN THIS TEST CODE CELL -------------------------------------\n",
    "# Q1.5 --- Test your implementation:\n",
    "# ---------------------------\n",
    "print (\"Test - Testing the implementation of the 'conjug' function..\\n \")\n",
    "z = 1+1j\n",
    "print(f'complex number z = {z}')\n",
    "print(f'complex number z-conjugate = {conjug(z)}')\n",
    "assert isinstance(conjug(z),complex) ,'wrong type'\n",
    "print (\"good job!\\nSanity tests passed. There are additional hidden tests...\")\n"
   ]
  },
  {
   "cell_type": "markdown",
   "metadata": {
    "deletable": false,
    "editable": false,
    "nbgrader": {
     "cell_type": "markdown",
     "checksum": "5af2953515a1f0dcb93365d8fad7b3d4",
     "grade": false,
     "grade_id": "cell-93e6fc5d14622d4a",
     "locked": true,
     "schema_version": 3,
     "solution": false,
     "task": false
    }
   },
   "source": [
    "## Question 2: Image processing with Fourier transform"
   ]
  },
  {
   "cell_type": "code",
   "execution_count": null,
   "metadata": {
    "deletable": false,
    "editable": false,
    "nbgrader": {
     "cell_type": "code",
     "checksum": "6a47b8114bfe570353db4a63ace21059",
     "grade": false,
     "grade_id": "cell-08186e7a00b3f568",
     "locked": true,
     "schema_version": 3,
     "solution": false,
     "task": false
    }
   },
   "outputs": [],
   "source": [
    "import PIL\n",
    "import urllib\n",
    "\n",
    "### Below you'll find a sample greyscale image\n",
    "pil_img = PIL.Image.open(urllib.request.urlopen('http://palmzlib.sourceforge.net/images/boat1.png'))\n",
    "img = np.asarray(pil_img)\n",
    "orig_img = img.copy()\n",
    "\n",
    "plt.figure()\n",
    "plt.imshow(orig_img, plt.cm.gray)\n",
    "plt.title('Original image')"
   ]
  },
  {
   "cell_type": "markdown",
   "metadata": {
    "deletable": false,
    "editable": false,
    "nbgrader": {
     "cell_type": "markdown",
     "checksum": "4a9ddbbc98381628afbf401401b5b6b7",
     "grade": false,
     "grade_id": "cell-53de93fe4fe877f6",
     "locked": true,
     "schema_version": 3,
     "solution": false,
     "task": false
    }
   },
   "source": [
    "Q2.1. Add $\\mathcal{N}$(0,20) noise to the given image\n",
    "\n",
    "Implement the function add_noise:\n",
    "\n",
    "<pre>\n",
    "Input parameters:\n",
    "im - an image\n",
    "noise - the noise to add\n",
    "\n",
    "return value - the image with noise\n",
    "</pre> \n",
    "\n",
    "Display the image with the noise given in the code below (which generates a normal distribution of noise)\n",
    "<pre>\n",
    "noise = np.random.normal(0.0, 20, size=img.shape)\n",
    "</pre> "
   ]
  },
  {
   "cell_type": "code",
   "execution_count": null,
   "metadata": {
    "deletable": false,
    "nbgrader": {
     "cell_type": "code",
     "checksum": "c596b8ef5cdb8a95adc586a0b27fe205",
     "grade": false,
     "grade_id": "cell-bd1d883ea75be84d",
     "locked": false,
     "schema_version": 3,
     "solution": true,
     "task": false
    }
   },
   "outputs": [],
   "source": [
    "noise = np.random.normal(0.0, 20.0, size=img.shape)\n",
    "\n",
    "def add_noise(im, noise):\n",
    "    # YOUR CODE HERE\n",
    "    raise NotImplementedError()"
   ]
  },
  {
   "cell_type": "code",
   "execution_count": null,
   "metadata": {
    "deletable": false,
    "editable": false,
    "nbgrader": {
     "cell_type": "code",
     "checksum": "ef3553b2e59c90c6cfad843ec662f6c0",
     "grade": true,
     "grade_id": "cell-781935dce6327fd4",
     "locked": true,
     "points": 2,
     "schema_version": 3,
     "solution": false,
     "task": false
    }
   },
   "outputs": [],
   "source": [
    "# --------------------------- RUN THIS TEST CODE CELL -------------------------------------\n",
    "# Q2.1 --- Test your implementation:\n",
    "# ---------------------------\n",
    "print(\"Testing the implementation of the 'low_pass_filter' function..\\n \")\n",
    "noise = np.random.normal(0.0, 20, size=img.shape)\n",
    "img_noise_added = add_noise(orig_img, noise)\n",
    "assert orig_img.shape == img_noise_added.shape\n",
    "print (\"good job!\\nSanity tests passed. There are additional hidden tests...\")\n",
    "\n",
    "\n"
   ]
  },
  {
   "cell_type": "markdown",
   "metadata": {
    "deletable": false,
    "editable": false,
    "nbgrader": {
     "cell_type": "markdown",
     "checksum": "bee93445ea30a586a5c2ee567ff1c870",
     "grade": false,
     "grade_id": "cell-b1026525f0f18435",
     "locked": true,
     "schema_version": 3,
     "solution": false,
     "task": false
    }
   },
   "source": [
    "Q2.2. Apply 20% low-pass filter to the rows of the image (keep 20% of the frequencies).\n",
    "\n",
    "Implement the function low_pass_filter:\n",
    "\n",
    "<pre>\n",
    "Input parameters:\n",
    "im - an image\n",
    "keep_fraction - what fraction of frequencies to keep\n",
    "\n",
    "return value - the image after low-pass filter was applied\n",
    "</pre> \n",
    "\n",
    "Display the filtered image."
   ]
  },
  {
   "cell_type": "code",
   "execution_count": null,
   "metadata": {
    "deletable": false,
    "nbgrader": {
     "cell_type": "code",
     "checksum": "e4ca07a44eadaf118cc55407bff95bf2",
     "grade": false,
     "grade_id": "cell-48cb1f0a772f8f43",
     "locked": false,
     "schema_version": 3,
     "solution": true,
     "task": false
    }
   },
   "outputs": [],
   "source": [
    "def low_pass_filter(im, keep_fraction):\n",
    "    # YOUR CODE HERE\n",
    "    raise NotImplementedError()\n"
   ]
  },
  {
   "cell_type": "code",
   "execution_count": null,
   "metadata": {
    "deletable": false,
    "editable": false,
    "nbgrader": {
     "cell_type": "code",
     "checksum": "370e3169de17bf5b19827ca2fda7a5cb",
     "grade": true,
     "grade_id": "cell-71ac68e593a09556",
     "locked": true,
     "points": 2,
     "schema_version": 3,
     "solution": false,
     "task": false
    }
   },
   "outputs": [],
   "source": [
    "# --------------------------- RUN THIS TEST CODE CELL -------------------------------------\n",
    "# Q2.2 --- Test your implementation:\n",
    "# ---------------------------\n",
    "print(\"Testing the implementation of the 'low_pass_filter' function..\\n \")\n",
    "row_fraction = 0.2\n",
    "img_new = low_pass_filter(img_noise_added, row_fraction)\n",
    "assert orig_img.shape == img_new.shape\n",
    "print (\"good job!\\nSanity tests passed. There are additional hidden tests...\")\n",
    "\n",
    "\n"
   ]
  },
  {
   "cell_type": "markdown",
   "metadata": {
    "deletable": false,
    "editable": false,
    "nbgrader": {
     "cell_type": "markdown",
     "checksum": "53f94d4543c290db7c5cd614a18035ee",
     "grade": false,
     "grade_id": "cell-574ce14828a06a91",
     "locked": true,
     "schema_version": 3,
     "solution": false,
     "task": false
    }
   },
   "source": [
    "Q2.3. Apply 10% high-pass filter to the columns of the image (keep 10% of the frequencies).\n",
    "\n",
    "Implement the function high_pass_filter:\n",
    "\n",
    "<pre>\n",
    "Input parameters:\n",
    "im - an image\n",
    "keep_fraction - what fraction of frequencies to keep\n",
    "\n",
    "return value - the image after high-pass filter was applied\n",
    "</pre> \n",
    "\n",
    "Display the filtered image."
   ]
  },
  {
   "cell_type": "code",
   "execution_count": null,
   "metadata": {
    "deletable": false,
    "nbgrader": {
     "cell_type": "code",
     "checksum": "d23387406e6d1d7e27818136392e8bc9",
     "grade": false,
     "grade_id": "cell-b3574377d906bc90",
     "locked": false,
     "schema_version": 3,
     "solution": true,
     "task": false
    }
   },
   "outputs": [],
   "source": [
    "def high_pass_filter(im, keep_fraction):\n",
    "    # YOUR CODE HERE\n",
    "    raise NotImplementedError()\n"
   ]
  },
  {
   "cell_type": "code",
   "execution_count": null,
   "metadata": {
    "deletable": false,
    "editable": false,
    "nbgrader": {
     "cell_type": "code",
     "checksum": "299690c0f1d7ad97e966630ed395a276",
     "grade": true,
     "grade_id": "cell-73047ce23f36a781",
     "locked": true,
     "points": 2,
     "schema_version": 3,
     "solution": false,
     "task": false
    }
   },
   "outputs": [],
   "source": [
    "# --------------------------- RUN THIS TEST CODE CELL -------------------------------------\n",
    "# Q2.3 --- Test your implementation:\n",
    "# ---------------------------\n",
    "print(\"Testing the implementation of the 'high_pass_filter' function..\\n \")\n",
    "col_fraction = 0.1\n",
    "img_new = high_pass_filter(img_noise_added, col_fraction)\n",
    "assert orig_img.shape == img_new.shape\n",
    "print (\"good job!\\nSanity tests passed. There are additional hidden tests...\")\n",
    "\n",
    "\n"
   ]
  },
  {
   "cell_type": "markdown",
   "metadata": {
    "deletable": false,
    "editable": false,
    "nbgrader": {
     "cell_type": "markdown",
     "checksum": "3becca10e10e815d099772eabbec38b3",
     "grade": false,
     "grade_id": "cell-d1a8f41ee7d0937c",
     "locked": true,
     "schema_version": 3,
     "solution": false,
     "task": false
    }
   },
   "source": [
    "Q2.4. Denoise the image using FFT (similarly to the method shown in class).\n",
    "\n",
    "Implement the function denoise\n",
    "\n",
    "<pre>\n",
    "Input parameters:\n",
    "im - an image\n",
    "low_pass_fraction - what fraction of low frequencies to keep\n",
    "high_pass_fraction - what fraction of high frequencies to keep\n",
    "\n",
    "return value - the denoised image\n",
    "</pre> \n",
    "\n",
    "Display the denoised image - apply 20% low-pass filter and 10% high-pass filter."
   ]
  },
  {
   "cell_type": "code",
   "execution_count": null,
   "metadata": {
    "deletable": false,
    "nbgrader": {
     "cell_type": "code",
     "checksum": "8f457453b3f3fa49dbd61c6bb66d4242",
     "grade": false,
     "grade_id": "cell-0797f4873daf1efd",
     "locked": false,
     "schema_version": 3,
     "solution": true,
     "task": false
    }
   },
   "outputs": [],
   "source": [
    "def denoise(im, low_pass_fraction, high_pass_fraction):\n",
    "    # YOUR CODE HERE\n",
    "    raise NotImplementedError()"
   ]
  },
  {
   "cell_type": "code",
   "execution_count": null,
   "metadata": {
    "deletable": false,
    "editable": false,
    "nbgrader": {
     "cell_type": "code",
     "checksum": "36a3d3774d4306dbf57e279120ccdc8b",
     "grade": true,
     "grade_id": "cell-c86f92ce7c9f061b",
     "locked": true,
     "points": 2,
     "schema_version": 3,
     "solution": false,
     "task": false
    }
   },
   "outputs": [],
   "source": [
    "# --------------------------- RUN THIS TEST CODE CELL -------------------------------------\n",
    "# Q2.4 --- Test your implementation:\n",
    "# ---------------------------\n",
    "print(\"Testing the implementation of the 'denoise' function..\\n \")\n",
    "img_new = denoise(img_noise_added, 0.2, 0.1)\n",
    "assert orig_img.shape == img_new.shape\n",
    "print (\"good job!\\nSanity tests passed. There are additional hidden tests...\")\n",
    "\n",
    "\n"
   ]
  },
  {
   "cell_type": "markdown",
   "metadata": {
    "deletable": false,
    "editable": false,
    "nbgrader": {
     "cell_type": "markdown",
     "checksum": "c78f89fdcef6171f930660d1e2146a44",
     "grade": false,
     "grade_id": "cell-acfeb8d4d944b97e",
     "locked": true,
     "schema_version": 3,
     "solution": false,
     "task": false
    }
   },
   "source": [
    "Q2.5. Calculate the noise removed using FFT\n",
    "\n",
    "Implement the function noise_removed:\n",
    "\n",
    "<pre>\n",
    "Input parameters:\n",
    "im - an image\n",
    "low_pass_fraction - what fraction of low frequencies to keep\n",
    "high_pass_fraction - what fraction of high frequencies to keep\n",
    "\n",
    "return value - the noise removed\n",
    "</pre> \n",
    "\n",
    "Display the noise removed"
   ]
  },
  {
   "cell_type": "code",
   "execution_count": null,
   "metadata": {
    "deletable": false,
    "nbgrader": {
     "cell_type": "code",
     "checksum": "02a406cf282249560f1702b6ed6a914c",
     "grade": false,
     "grade_id": "cell-faf23d8fb3562144",
     "locked": false,
     "schema_version": 3,
     "solution": true,
     "task": false
    }
   },
   "outputs": [],
   "source": [
    "def noise_removed(im, low_pass_fraction, high_pass_fraction):\n",
    "    # YOUR CODE HERE\n",
    "    raise NotImplementedError()"
   ]
  },
  {
   "cell_type": "code",
   "execution_count": null,
   "metadata": {
    "deletable": false,
    "editable": false,
    "nbgrader": {
     "cell_type": "code",
     "checksum": "2738239a40b9c582c44df7ce0e2e2634",
     "grade": true,
     "grade_id": "cell-2df9ce14b2905d46",
     "locked": true,
     "points": 2,
     "schema_version": 3,
     "solution": false,
     "task": false
    }
   },
   "outputs": [],
   "source": [
    "# --------------------------- RUN THIS TEST CODE CELL -------------------------------------\n",
    "# Q2.5 --- Test your implementation:\n",
    "# ---------------------------\n",
    "print(\"Testing the implementation of the 'denoise' function..\\n \")\n",
    "img_noise_removed = noise_removed(img_noise_added, 0.2, 0.1)\n",
    "assert orig_img.shape == img_noise_removed.shape\n",
    "print (\"good job!\\nSanity tests passed. There are additional hidden tests...\")\n",
    "\n",
    "\n"
   ]
  },
  {
   "cell_type": "markdown",
   "metadata": {
    "deletable": false,
    "editable": false,
    "nbgrader": {
     "cell_type": "markdown",
     "checksum": "d6cd918303f0f51c8986d5153de99b40",
     "grade": false,
     "grade_id": "cell-cdfa8ee446c3f7dd",
     "locked": true,
     "schema_version": 3,
     "solution": false,
     "task": false
    }
   },
   "source": [
    "Q2.6. Reconstruct the image with original image with noise using the two images calculated in 5.4 and 5.5\n",
    "\n",
    "Implement the function recover_image:\n",
    "\n",
    "<pre>\n",
    "Input parameters:\n",
    "denoised_im - the image after noise was removed\n",
    "noise_im - the noise removed\n",
    "return value - the original image with noise recovered by this function\n",
    "</pre> \n",
    "\n",
    "Display the recovered image"
   ]
  },
  {
   "cell_type": "code",
   "execution_count": null,
   "metadata": {
    "deletable": false,
    "nbgrader": {
     "cell_type": "code",
     "checksum": "f9f236941b18da36f482b3a3841f7a3b",
     "grade": false,
     "grade_id": "cell-96933b85f8658d3a",
     "locked": false,
     "schema_version": 3,
     "solution": true,
     "task": false
    }
   },
   "outputs": [],
   "source": [
    "def recover_image(denoised_im, noise_im):\n",
    "    # YOUR CODE HERE\n",
    "    raise NotImplementedError()"
   ]
  },
  {
   "cell_type": "code",
   "execution_count": null,
   "metadata": {
    "deletable": false,
    "editable": false,
    "nbgrader": {
     "cell_type": "code",
     "checksum": "5071968c090b1f226c4cca6bd82c6083",
     "grade": true,
     "grade_id": "cell-bdd8c8e3fd8e40b9",
     "locked": true,
     "points": 2,
     "schema_version": 3,
     "solution": false,
     "task": false
    }
   },
   "outputs": [],
   "source": [
    "# --------------------------- RUN THIS TEST CODE CELL -------------------------------------\n",
    "# Q2.6 --- Test your implementation:\n",
    "# ---------------------------\n",
    "print(\"Testing the implementation of the 'denoise' function..\\n \")\n",
    "denoised_im = denoise(img_noise_added, 0.2, 0.1)\n",
    "noise_im = noise_removed(img_noise_added, 0.2, 0.1)\n",
    "img_recovered = recover_image(denoised_im, noise_im)\n",
    "assert orig_img.shape == img_recovered.shape\n",
    "print (\"good job!\\nSanity tests passed. There are additional hidden tests...\")\n",
    "\n",
    "\n"
   ]
  },
  {
   "cell_type": "markdown",
   "metadata": {
    "deletable": false,
    "editable": false,
    "nbgrader": {
     "cell_type": "markdown",
     "checksum": "d6cd918303f0f51c8986d5153de99b40",
     "grade": false,
     "grade_id": "cell-cdfa8ee446c3f7dd",
     "locked": true,
     "schema_version": 3,
     "solution": false,
     "task": false
    }
   },
   "source": [
    "Q2.7. Repeat the last question with different keep_fractions values (the parameter to the apply filters functions). Which gives the best results? Use at least 5 different values\n",
    "\n",
    "Implement the function recover_best:\n",
    "\n",
    "<pre>\n",
    "Input parameters:\n",
    "im - the image with noise\n",
    "keep_fractions - a list of tuples (low,high) of different keep_fractions values\n",
    "return value - the keep_fraction value which returns the best results\n",
    "</pre> \n",
    "\n",
    "Display the following for each tuple:\n",
    "1. The error\n",
    "2. Display the recovered image\n",
    "\n",
    "At the end, display the best result"
   ]
  },
  {
   "cell_type": "code",
   "execution_count": null,
   "metadata": {},
   "outputs": [],
   "source": [
    "def recover_best(im, keep_fractions):\n",
    "    # YOUR CODE HERE\n",
    "    raise NotImplementedError()"
   ]
  },
  {
   "cell_type": "code",
   "execution_count": null,
   "metadata": {},
   "outputs": [],
   "source": [
    "# --------------------------- RUN THIS TEST CODE CELL -------------------------------------\n",
    "# Q2.6 --- Test your implementation:\n",
    "# ---------------------------\n",
    "print(\"Testing the implementation of the 'denoise' function..\\n \")\n",
    "best_fraction = recover_image(img_noise_added, [(0.1,0.1), (0.1,0.2), (0.4,0.3)])\n",
    "print (\"good job!\\nSanity tests passed. There are additional hidden tests...\")"
   ]
  }
 ],
 "metadata": {
  "colab": {
   "collapsed_sections": [],
   "name": "homework5- yuval izchaki",
   "provenance": [],
   "toc_visible": true
  },
  "kernelspec": {
   "display_name": "Python 3",
   "language": "python",
   "name": "python3"
  },
  "language_info": {
   "codemirror_mode": {
    "name": "ipython",
    "version": 3
   },
   "file_extension": ".py",
   "mimetype": "text/x-python",
   "name": "python",
   "nbconvert_exporter": "python",
   "pygments_lexer": "ipython3",
   "version": "3.8.5"
  }
 },
 "nbformat": 4,
 "nbformat_minor": 4
}
