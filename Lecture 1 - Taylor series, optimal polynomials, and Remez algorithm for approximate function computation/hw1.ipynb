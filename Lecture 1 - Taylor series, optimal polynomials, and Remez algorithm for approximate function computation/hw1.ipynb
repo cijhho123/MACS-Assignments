{
  "cells": [
    {
      "cell_type": "markdown",
      "source": [
        "# Assignment 1: Approximation of mathematical functions\n",
        "\n",
        "## Working on the assignment, todo and not todo:\n",
        "<b><u>Todo</u></b>:<br />\n",
        "<div class=\"alert alert-success\">\n",
        "<ul><li>&#x2714; <b> Work by yourself</b> and submit your own assignment, <b>no pairing</b> to other students</li>\n",
        "<li>&#x2714; Test and save your assignment - <b>submit the last tested and saved version</b></li>\n",
        "<li>&#x2714; to <b>submit</b> the assignment, download the notebook (File → Download .ipynb in Google Colab)</li>\n",
        "<li>&#x2714; submit <b>only</b> the <b>ipynb</b> file under the name <b>hw1.ipynb</b></li>\n",
        "<li>&#x2714; It is advisable to add extra cells to check your code implementation</li></ul>\n",
        "</div>\n",
        "<b><u>Not todo</u></b>:<br />\n",
        "<div class=\"alert alert-danger\">\n",
        "<ul><li>&#x2718; do <b>NOT</b> submit an <b>empty assignment</b></li>\n",
        "<li>&#x2718; do <b>NOT submit extra files</b>, <u>unless you're asked to do so</u></li>\n",
        "<li>&#x2718; <b>Do NOT submit a .py/.txt/.rar/.zip (or any non (.ipynb) file)</b> <u>version for the notebook</u> of the assignment</li>\n",
        "<li>&#x2718; <b>do NOT change</b> the notebook file name</li></ul>\n",
        "</div>"
      ],
      "metadata": {
        "id": "GpoKhh2Ss7Jk"
      }
    },
    {
      "cell_type": "code",
      "execution_count": null,
      "metadata": {
        "id": "D4GcQI1Dkt0B"
      },
      "outputs": [],
      "source": [
        "import math\n",
        "import numpy as np \n",
        "import matplotlib.pyplot as plt\n",
        "%matplotlib inline"
      ]
    },
    {
      "cell_type": "markdown",
      "metadata": {
        "id": "C7zps0rkkt0Q"
      },
      "source": [
        "## Question 1: Approximating cosine function\n",
        "\n",
        "Function $\\cos$ is defined on positive real numbers: $\\cos(x): \\mathcal{R} \\rightarrow [-1, 1]$. The Taylor series for $\\cos$ has [the following form](https://en.wikipedia.org/wiki/Sine_and_cosine):\n",
        "\n",
        "\\begin{align}\\cos (x)  &= 1 - \\frac{x^2}{2!} + \\frac{x^4}{4!} - \\cdots \\\\\n",
        "&= \\sum_{n=0}^\\infty (-1)^{n}\\frac{x^{2n}}{2n!}\n",
        "\\end{align}\n",
        "\n",
        "\n",
        "\n",
        "1. Implement `cos1` that approximates $\\cos(x)$\n",
        "\n"
      ]
    },
    {
      "cell_type": "code",
      "execution_count": null,
      "metadata": {
        "id": "oQ8C9i1s8RUk"
      },
      "outputs": [],
      "source": [
        "def cos1(x, n):\n",
        "    \"\"\"Computes cos(x) with Taylor series approximation upto x^n.\n",
        "    Returns the approximate value.\n",
        "    \"\"\"\n",
        "    pass\n",
        "\n"
      ]
    },
    {
      "cell_type": "markdown",
      "metadata": {
        "id": "4I2akTMs8RUk"
      },
      "source": [
        " 2. Plot  `np.cos` and `cos1` for $-10 ≤ x ≤ 10$ for $n=1,2,4,8$.   \n",
        "    \n",
        "\n",
        "   \n"
      ]
    },
    {
      "cell_type": "code",
      "execution_count": null,
      "metadata": {
        "id": "ZTHys47A8RUl"
      },
      "outputs": [],
      "source": []
    },
    {
      "cell_type": "markdown",
      "metadata": {
        "id": "OBibyZQy8RUl"
      },
      "source": [
        "3. Implement `cos2` that approximates $\\cos(x),\\,-\\infty < x < \\infty$ in a more efficient way. _Hint:_ $\\cos (x + \\pi) = - \\cos(x)$.\n"
      ]
    },
    {
      "cell_type": "code",
      "execution_count": null,
      "metadata": {
        "id": "sZ-J7ErS8RUm"
      },
      "outputs": [],
      "source": [
        "from numpy import floor\n",
        "def cos2(x, n):\n",
        "  pass\n"
      ]
    },
    {
      "cell_type": "markdown",
      "metadata": {
        "id": "Wmzde7pU8RUm"
      },
      "source": [
        " 4. Plot  `np.cos` and `cos2` for $-10 ≤ x ≤ 10$ for $n=1,2,4,8$.   \n",
        "    \n",
        "\n"
      ]
    },
    {
      "cell_type": "code",
      "execution_count": null,
      "metadata": {
        "id": "MQ2X-CTh8RUn"
      },
      "outputs": [],
      "source": []
    },
    {
      "cell_type": "markdown",
      "metadata": {
        "id": "-GgBHI1H8RUo"
      },
      "source": [
        "5.\n",
        "* What are the maximum absolute and relative errors of `cos1` compared to `cos2` on the set of points $x \\in [0, 1, 2, 3]$? \n",
        "* What are the maximum absolute and relative errors of `cos1` compared to `cos2` on the set of points $x \\in [4, 5, 6, 7]$? \n",
        "\n",
        "For every $x$ you should print the maximum absolute and relative for `cos1` and for `cos2`. Use $n=8$ for both cases"
      ]
    },
    {
      "cell_type": "code",
      "execution_count": null,
      "metadata": {
        "id": "6tbmlfOs8RUo"
      },
      "outputs": [],
      "source": []
    },
    {
      "cell_type": "markdown",
      "metadata": {
        "id": "xo9nKfZrkt0e"
      },
      "source": [
        "## Question 2: Using approximate versions of  $\\log$ and $\\exp$\n",
        "\n",
        "1. Use `exp2`  from [lecture 1 notebook](https://colab.research.google.com/drive/1-UKYN6p63tcqhPUg2TAUMsaJz0hUv1x0?usp=sharing) and `cos2` from Q1 to implement the function:\n",
        " $f(x)=cos(e^{x})$ \n",
        " and implement the same function with `math.exp` and `np.cos`.\n",
        "\n"
      ]
    },
    {
      "cell_type": "code",
      "execution_count": null,
      "metadata": {
        "id": "NYVbQbLJ8RUp"
      },
      "outputs": [],
      "source": []
    },
    {
      "cell_type": "markdown",
      "metadata": {
        "id": "3gqsYLRJ8RUp"
      },
      "source": [
        "2. Compare both implemetations in term of <br><b>absolute error</b>.\n",
        "Check the cases which $x \\in [10, 50, 100, 200]$. Use $ n = 8$\n"
      ]
    },
    {
      "cell_type": "code",
      "execution_count": null,
      "metadata": {
        "id": "WyH4gHIS8RUq"
      },
      "outputs": [],
      "source": []
    },
    {
      "cell_type": "markdown",
      "metadata": {
        "id": "Wu4EOLkA8RUq"
      },
      "source": [
        "3. Compare both implemetations in term of <br><b>relative error</b>.\n",
        "Check the cases which $x \\in [10, 50, 100, 200]$. Use $ n = 8$\n"
      ]
    },
    {
      "cell_type": "code",
      "execution_count": null,
      "metadata": {
        "id": "oPUgV1eY8RUq"
      },
      "outputs": [],
      "source": []
    },
    {
      "cell_type": "markdown",
      "metadata": {
        "id": "2LDr0HgP8RUr"
      },
      "source": [
        "4. Lets define a \"special\" number to be an natural number $x\\in \\mathbb{N}$ such that $f(x) > 0$. (the function from Q2.1)\n",
        "find one \"special\" number, x, that using the approximated $f(x)$ ($f_{approx}$), with `exp2` and `cos2`, it is holds that $f_{approx}(x) \\leq 0$.\n",
        "Use $n = 8$.\n"
      ]
    },
    {
      "cell_type": "code",
      "execution_count": null,
      "metadata": {
        "id": "knfqQczm8RUr"
      },
      "outputs": [],
      "source": []
    },
    {
      "cell_type": "markdown",
      "source": [
        "5. What is the minimal value of $n$ (number of Taylor series elements) for which, the absolute difference between the <br><b>relative errors</b> of $f_{approx}(10)$ computed for `n` and `n+1` and `n+1` and `n+2`  is smaller than $10^{-8}$ ? \n",
        "\n",
        "\\begin{align}\n",
        "      \\text{relative error = }\\frac{|real - approx|}{|real|}\n",
        "    \\end{align}"
      ],
      "metadata": {
        "id": "qbIfr3UcwSEU"
      }
    },
    {
      "cell_type": "code",
      "execution_count": null,
      "metadata": {
        "id": "9oXYb6g08RUs"
      },
      "outputs": [],
      "source": []
    }
  ],
  "metadata": {
    "colab": {
      "provenance": []
    },
    "kernelspec": {
      "display_name": "cvkernel",
      "language": "python",
      "name": "cvkernel"
    },
    "language_info": {
      "codemirror_mode": {
        "name": "ipython",
        "version": 3
      },
      "file_extension": ".py",
      "mimetype": "text/x-python",
      "name": "python",
      "nbconvert_exporter": "python",
      "pygments_lexer": "ipython3",
      "version": "3.6.12"
    }
  },
  "nbformat": 4,
  "nbformat_minor": 0
}