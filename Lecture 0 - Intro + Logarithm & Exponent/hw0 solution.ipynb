{
  "nbformat": 4,
  "nbformat_minor": 0,
  "metadata": {
    "colab": {
      "provenance": []
    },
    "kernelspec": {
      "name": "python3",
      "display_name": "Python 3"
    }
  },
  "cells": [
    {
      "cell_type": "markdown",
      "metadata": {
        "id": "fdo_MELJzSOS"
      },
      "source": [
        "\n",
        "# Assignment 0 (not for submission): logarithm and exponent"
      ]
    },
    {
      "cell_type": "code",
      "metadata": {
        "id": "pI5b-c96rt08"
      },
      "source": [
        "import math\n",
        "import matplotlib.pyplot as plt\n",
        "import numpy"
      ],
      "execution_count": 7,
      "outputs": []
    },
    {
      "cell_type": "markdown",
      "metadata": {
        "id": "KxUENdoayWM0"
      },
      "source": [
        "## Question 1: Counting permutations\n",
        "\n",
        "We are given a set of $N$ elements (e.g. books in the reading lists). We need to estimate the number of $k$-permutations, or possible orders of subsets of $K$ elements of the set, $1 \\le K \\le N$.\n",
        "\n",
        "Mathematically, the answer is by the following formula,\n",
        "\n",
        "$$P(N, K) = \\frac {N!} {(N-K)!}$$\n",
        "\n",
        "1. Write a function to compute the exact number of permutations. Compute the number of k-permutations and the running time for N=1 K=1, N=10000 K=10, N=100000 K=10. \n",
        "2. Write an approximate function using $\\log$ transformation. Compare the running times.\n",
        "3. What is the absolute and relative error of computing the number of permutations for each combination of arguments?"
      ]
    },
    {
      "cell_type": "code",
      "metadata": {
        "id": "C0zheLJDgadP",
        "colab": {
          "base_uri": "https://localhost:8080/"
        },
        "outputId": "2cf8e68e-9eea-4614-ee12-7b44d13e8800"
      },
      "source": [
        "# task 1 \n",
        "\n",
        "def factorial(n):\n",
        "  prod = 1\n",
        "  while n > 0:\n",
        "    prod *= n\n",
        "    n = n - 1\n",
        "\n",
        "  return prod\n",
        "\n",
        "def choose(n, k):\n",
        "  return factorial(n)/(factorial(n - k))\n",
        "\n",
        "print(\"task 1 results:\")\n",
        "%time t1 = (choose(1,1))\n",
        "print (t1)\n",
        "\n",
        "%time t2 = (choose(10000,10))\n",
        "print (t2)\n",
        "\n",
        "%time t3 = (choose(100000,10))\n",
        "print (t3)\n",
        "\n",
        "\n",
        "# task 2\n",
        "\n",
        "def logfact(n):\n",
        "  logf = 0\n",
        "  for i in range(n):\n",
        "    logf += math.log(i + 1)\n",
        "  return logf\n",
        "\n",
        "def binom(n, k):\n",
        "  return round(math.exp(logfact(n) - logfact(n - k)))\n",
        "\n",
        "print(\"\\n\\ntask 2 results:\")\n",
        "%time t4 = (binom(1,1))\n",
        "print (t4)\n",
        "\n",
        "%time t5 = (binom(10000,10))\n",
        "print (t5)\n",
        "\n",
        "%time t6 = (binom(100000,10))\n",
        "print (t6)\n",
        "\n",
        "\n",
        "# task 3\n",
        "def calc_error(a, b):\n",
        "  err = abs(a - b )\n",
        "  relerr = err/a * 100\n",
        "  print(f\"a={a} b={b} error={err:.6g} ({relerr:.8f}%)\")\n",
        "\n",
        "\n",
        "print(\"\\n\\ntask 3 results:\")\n",
        "print (\"test 1:\")\n",
        "calc_error(t1, t4)\n",
        "\n",
        "print (\"test 2:\")\n",
        "calc_error(t2, t5)\n",
        "\n",
        "print (\"test 3:\")\n",
        "calc_error(t3, t6)\n"
      ],
      "execution_count": 8,
      "outputs": [
        {
          "output_type": "stream",
          "name": "stdout",
          "text": [
            "task 1 results:\n",
            "CPU times: user 8 µs, sys: 1e+03 ns, total: 9 µs\n",
            "Wall time: 12.6 µs\n",
            "1.0\n",
            "CPU times: user 91.5 ms, sys: 0 ns, total: 91.5 ms\n",
            "Wall time: 93.3 ms\n",
            "9.955086905563246e+39\n",
            "CPU times: user 6.47 s, sys: 16.1 ms, total: 6.49 s\n",
            "Wall time: 6.56 s\n",
            "9.995500869905507e+49\n",
            "\n",
            "\n",
            "task 2 results:\n",
            "CPU times: user 15 µs, sys: 0 ns, total: 15 µs\n",
            "Wall time: 18.8 µs\n",
            "1\n",
            "CPU times: user 3.78 ms, sys: 0 ns, total: 3.78 ms\n",
            "Wall time: 3.8 ms\n",
            "9955086905474819609919064913738870030336\n",
            "CPU times: user 38.2 ms, sys: 1 ms, total: 39.2 ms\n",
            "Wall time: 39.1 ms\n",
            "99955008679555810959837553751083102303490628648960\n",
            "\n",
            "\n",
            "task 3 results:\n",
            "test 1:\n",
            "a=1.0 b=1 error=0 (0.00000000%)\n",
            "test 2:\n",
            "a=9.955086905563246e+39 b=9955086905474819609919064913738870030336 error=8.84269e+28 (0.00000000%)\n",
            "test 3:\n",
            "a=9.995500869905507e+49 b=99955008679555810959837553751083102303490628648960 error=1.94993e+40 (0.00000002%)\n"
          ]
        }
      ]
    },
    {
      "cell_type": "markdown",
      "metadata": {
        "id": "tum_F3Vj5sKk"
      },
      "source": [
        "## Question 2: processing data with magnitudal differences\n",
        "\n",
        "A seismic sensor measures amplitude of earthquakes in  an area of the Pacific ocean. We are given average  yearly intensities of earthquakes over 30 years. Visualize the data on natural and logarithmic scale. Does the intensity change over time?"
      ]
    },
    {
      "cell_type": "code",
      "metadata": {
        "id": "Rif_i8Tp9Hb9"
      },
      "source": [
        "earthquakes = [0.55,\n",
        " 29.85,\n",
        " 0.35,\n",
        " 0.03,\n",
        " 0.03,\n",
        " 0.05,\n",
        " 26.2,\n",
        " 11.71,\n",
        " 22.40,\n",
        " 0.09,\n",
        " 125.72,\n",
        " 0.01,\n",
        " 58.51,\n",
        " 0.78,\n",
        " 12.54,\n",
        " 5.38,\n",
        " 183.21,\n",
        " 12.20,\n",
        " 5572.37,\n",
        " 17.23,\n",
        " 13.68,\n",
        " 845.38,\n",
        " 1024.14,\n",
        " 765.27,\n",
        " 9.06,\n",
        " 0.78,\n",
        " 59.06,\n",
        " 175.66,\n",
        " 1570.27,\n",
        " 236.5]"
      ],
      "execution_count": 5,
      "outputs": []
    },
    {
      "cell_type": "code",
      "metadata": {
        "id": "qFRYSvU0f3Qg",
        "colab": {
          "base_uri": "https://localhost:8080/",
          "height": 300
        },
        "outputId": "24278366-2d8d-4048-9375-9f713822b985"
      },
      "source": [
        "# task 1\n",
        "print (\"natural scale:\")\n",
        "plt.scatter([range(1,31)], earthquakes)\n"
      ],
      "execution_count": 9,
      "outputs": [
        {
          "output_type": "stream",
          "name": "stdout",
          "text": [
            "natural scale:\n"
          ]
        },
        {
          "output_type": "execute_result",
          "data": {
            "text/plain": [
              "<matplotlib.collections.PathCollection at 0x7fa2b973db20>"
            ]
          },
          "metadata": {},
          "execution_count": 9
        },
        {
          "output_type": "display_data",
          "data": {
            "text/plain": [
              "<Figure size 432x288 with 1 Axes>"
            ],
            "image/png": "[encoded data removed]"
          },
          "metadata": {
            "needs_background": "light"
          }
        }
      ]
    },
    {
      "cell_type": "code",
      "source": [
        "# task 2\n",
        "print (\"logarithmic scale:\")\n",
        "plt.scatter([range(1,31)], numpy.log(earthquakes))"
      ],
      "metadata": {
        "colab": {
          "base_uri": "https://localhost:8080/",
          "height": 300
        },
        "id": "gOh7mQXztHL7",
        "outputId": "ef731273-306f-4bf4-b0c7-8f88f427b1cd"
      },
      "execution_count": 11,
      "outputs": [
        {
          "output_type": "stream",
          "name": "stdout",
          "text": [
            "logarithmic scale:\n"
          ]
        },
        {
          "output_type": "execute_result",
          "data": {
            "text/plain": [
              "<matplotlib.collections.PathCollection at 0x7fa2a92a2520>"
            ]
          },
          "metadata": {},
          "execution_count": 11
        },
        {
          "output_type": "display_data",
          "data": {
            "text/plain": [
              "<Figure size 432x288 with 1 Axes>"
            ],
            "image/png": "[encoded data removed]"
          },
          "metadata": {
            "needs_background": "light"
          }
        }
      ]
    },
    {
      "cell_type": "code",
      "source": [
        "# task 3\n",
        "print (\"In my opinios it does looks like a rising trend.\")\n"
      ],
      "metadata": {
        "colab": {
          "base_uri": "https://localhost:8080/"
        },
        "id": "4wRApDsMtuTa",
        "outputId": "ab058292-db60-49db-edc9-93972e5f0426"
      },
      "execution_count": 12,
      "outputs": [
        {
          "output_type": "stream",
          "name": "stdout",
          "text": [
            "In my opinios it does looks like a rising trend.\n"
          ]
        }
      ]
    }
  ]
}