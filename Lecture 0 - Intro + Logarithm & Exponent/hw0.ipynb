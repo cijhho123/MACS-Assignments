{
  "nbformat": 4,
  "nbformat_minor": 0,
  "metadata": {
    "colab": {
      "provenance": []
    },
    "kernelspec": {
      "name": "python3",
      "display_name": "Python 3"
    }
  },
  "cells": [
    {
      "cell_type": "markdown",
      "metadata": {
        "id": "fdo_MELJzSOS"
      },
      "source": [
        "# Assignment 0 (not for submission): logarithm and exponent"
      ]
    },
    {
      "cell_type": "code",
      "metadata": {
        "id": "pI5b-c96rt08"
      },
      "source": [
        "import math\n",
        "import matplotlib.pyplot as plt\n",
        "import numpy"
      ],
      "execution_count": null,
      "outputs": []
    },
    {
      "cell_type": "markdown",
      "metadata": {
        "id": "KxUENdoayWM0"
      },
      "source": [
        "## Question 1: Counting permutations\n",
        "\n",
        "We are given a set of $N$ elements (e.g. books in the reading lists). We need to estimate the number of $k$-permutations, or possible orders of subsets of $K$ elements of the set, $1 \\le K \\le N$.\n",
        "\n",
        "Mathematically, the answer is by the following formula,\n",
        "\n",
        "$$P(N, K) = \\frac {N!} {(N-K)!}$$\n",
        "\n",
        "1. Write a function to compute the exact number of permutations. Compute the number of k-permutations and the running time for N=1 K=1, N=10000 K=10, N=100000 K=10. \n",
        "2. Write an approximate function using $\\log$ transformation. Compare the running times.\n",
        "3. What is the absolute and relative error of computing the number of permutations for each combination of arguments?"
      ]
    },
    {
      "cell_type": "code",
      "metadata": {
        "id": "C0zheLJDgadP"
      },
      "source": [],
      "execution_count": null,
      "outputs": []
    },
    {
      "cell_type": "markdown",
      "metadata": {
        "id": "tum_F3Vj5sKk"
      },
      "source": [
        "## Question 2: processing data with magnitudal differences\n",
        "\n",
        "A seismic sensor measures amplitude of earthquakes in  an area of the Pacific ocean. We are given average  yearly intensities of earthquakes over 30 years. Visualize the data on natural and logarithmic scale. Does the intensity change over time?"
      ]
    },
    {
      "cell_type": "code",
      "metadata": {
        "id": "Rif_i8Tp9Hb9"
      },
      "source": [
        "earthquakes = [0.55,\n",
        " 29.85,\n",
        " 0.35,\n",
        " 0.03,\n",
        " 0.03,\n",
        " 0.05,\n",
        " 26.2,\n",
        " 11.71,\n",
        " 22.40,\n",
        " 0.09,\n",
        " 125.72,\n",
        " 0.01,\n",
        " 58.51,\n",
        " 0.78,\n",
        " 12.54,\n",
        " 5.38,\n",
        " 183.21,\n",
        " 12.20,\n",
        " 5572.37,\n",
        " 17.23,\n",
        " 13.68,\n",
        " 845.38,\n",
        " 1024.14,\n",
        " 765.27,\n",
        " 9.06,\n",
        " 0.78,\n",
        " 59.06,\n",
        " 175.66,\n",
        " 1570.27,\n",
        " 236.5]"
      ],
      "execution_count": 1,
      "outputs": []
    },
    {
      "cell_type": "code",
      "metadata": {
        "id": "qFRYSvU0f3Qg"
      },
      "source": [],
      "execution_count": null,
      "outputs": []
    }
  ]
}