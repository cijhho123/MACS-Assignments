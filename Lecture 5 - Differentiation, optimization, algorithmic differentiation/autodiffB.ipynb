{
  "nbformat": 4,
  "nbformat_minor": 0,
  "metadata": {
    "colab": {
      "provenance": []
    },
    "kernelspec": {
      "name": "python3",
      "display_name": "Python 3"
    }
  },
  "cells": [
    {
      "cell_type": "markdown",
      "metadata": {
        "id": "lT_noH9ReAf4"
      },
      "source": [
        "# Evaluating derivatives\n",
        "\n",
        "Derivatives are frequently used in optimization, machine learning and statistical inference. For example, we can find function minima and maxima much faster if derivatives are available. But how can we compute derivatives?"
      ]
    },
    {
      "cell_type": "markdown",
      "metadata": {
        "id": "sBfN0Va8eFXe"
      },
      "source": [
        "## Symbolic differentiation\n",
        "\n",
        "We can write (or use) a library which differentiates expressions symbolically."
      ]
    },
    {
      "cell_type": "code",
      "metadata": {
        "id": "45Aaa3Z6ceAH"
      },
      "source": [
        "import sympy as sym"
      ],
      "execution_count": null,
      "outputs": []
    },
    {
      "cell_type": "markdown",
      "metadata": {
        "id": "fbpvcymhaSkv"
      },
      "source": [
        "$$\\frac {d \\log(x) \\exp(x)} {d x} = \\log(x) \\exp'(x) + \\log'(x) \\exp(x) = \\log(x) \\exp(x) + \\frac {\\exp(x)} x$$"
      ]
    },
    {
      "cell_type": "code",
      "metadata": {
        "id": "2_r61qujcgAs"
      },
      "source": [
        "x = sym.Symbol('x')\n",
        "print(sym.diff(sym.log(x)*sym.exp(x), x))"
      ],
      "execution_count": null,
      "outputs": []
    },
    {
      "cell_type": "markdown",
      "metadata": {
        "id": "V8VxZp130q5B"
      },
      "source": [
        "$$\\left(\\frac { \\log(x) + \\exp(x)} {\\log(x)  \\exp(x)} \\right)'$$"
      ]
    },
    {
      "cell_type": "code",
      "metadata": {
        "id": "XJUXdDhidafz"
      },
      "source": [
        "print(sym.diff((sym.log(x) + sym.exp(x))/(sym.log(x)*sym.exp(x)), x))"
      ],
      "execution_count": null,
      "outputs": []
    },
    {
      "cell_type": "markdown",
      "metadata": {
        "id": "7C0p9EGNeMv_"
      },
      "source": [
        "However, the size of the derivative can grow very fast (expression swell):"
      ]
    },
    {
      "cell_type": "markdown",
      "metadata": {
        "id": "GJIPK4kI1G7P"
      },
      "source": [
        "$$\\left( x \\cdot\\frac { \\log(x) + \\exp(x)} {\\log(x)  \\exp(x)} \\right)'$$"
      ]
    },
    {
      "cell_type": "code",
      "metadata": {
        "id": "f_NGMDuvcmr3"
      },
      "source": [
        "print(sym.diff(x*(sym.log(x) + sym.exp(x))/(sym.log(x)*sym.exp(x)), x))"
      ],
      "execution_count": null,
      "outputs": []
    },
    {
      "cell_type": "markdown",
      "metadata": {
        "id": "PLW-9vXd1fg2"
      },
      "source": [
        "$$\\left[\\left( x \\cdot\\frac { \\log(x) + \\exp(x)} {\\log(x)  \\exp(x)} \\right)^x \\right]'$$"
      ]
    },
    {
      "cell_type": "code",
      "metadata": {
        "id": "vxaXTXw0duYn"
      },
      "source": [
        "print(sym.diff((x*(sym.log(x) + sym.exp(x))/(sym.log(x)*sym.exp(x)))**x, x))"
      ],
      "execution_count": null,
      "outputs": []
    },
    {
      "cell_type": "markdown",
      "metadata": {
        "id": "tsB19Yzp1uTe"
      },
      "source": [
        "$$\\frac{\\partial \\left( \\frac { \\log(x) + \\exp(y)} {\\log(x)  \\exp(y)} \\right)}{\\partial y}$$"
      ]
    },
    {
      "cell_type": "code",
      "metadata": {
        "id": "oPb416pHdtkh"
      },
      "source": [
        "y = sym.Symbol('y')\n",
        "print(sym.diff((sym.log(x) + sym.exp(y))/(sym.log(x)*sym.exp(y)), y))"
      ],
      "execution_count": null,
      "outputs": []
    },
    {
      "cell_type": "markdown",
      "metadata": {
        "id": "tz4yTzKId_Wf"
      },
      "source": [
        "## Automatic differentiation\n",
        "\n",
        "Automatic differentiation is a programming technique which can compute the derivative of any function, including functions with conditionals, loops, and recursion."
      ]
    },
    {
      "cell_type": "code",
      "metadata": {
        "id": "RYpOn1DbdyXJ"
      },
      "source": [
        "import jax   #  a Python library from Google for automatic differentiation\n",
        "from random import random\n",
        "import jax.numpy as np\n",
        "import matplotlib.pyplot as plt"
      ],
      "execution_count": null,
      "outputs": []
    },
    {
      "cell_type": "markdown",
      "metadata": {
        "id": "XPjkMRl1a8oG"
      },
      "source": [
        "Let's algorithmically differentiate the same function."
      ]
    },
    {
      "cell_type": "code",
      "metadata": {
        "id": "UXZzssTMejce"
      },
      "source": [
        "def foo(x):\n",
        "  a = np.log(x)\n",
        "  b = np.exp(x)\n",
        "  return (a + b)/(a*b)"
      ],
      "execution_count": null,
      "outputs": []
    },
    {
      "cell_type": "code",
      "metadata": {
        "id": "odNthF7yehB0"
      },
      "source": [
        "dfoo = jax.grad(foo)"
      ],
      "execution_count": null,
      "outputs": []
    },
    {
      "cell_type": "code",
      "metadata": {
        "id": "rgvcaXqYei80"
      },
      "source": [
        "x = np.linspace(1.1, 2.9, 1000)\n",
        "plt.plot(x, [foo(x) for x in x], label=\"foo\")\n",
        "plt.plot(x, [dfoo(x) for x in x], label=\"d foo/d x\")\n",
        "plt.legend()"
      ],
      "execution_count": null,
      "outputs": []
    },
    {
      "cell_type": "markdown",
      "metadata": {
        "id": "kiyZTr-H30Db"
      },
      "source": [
        "## Gradient based optimization\n",
        "\n",
        "### Gradient descent\n",
        "\n",
        "$$x \\gets x - f'(x) \\delta$$\n",
        "$$\\delta \\gets \\gamma\\delta$$"
      ]
    },
    {
      "cell_type": "code",
      "metadata": {
        "id": "hTOjIv4ce9JQ"
      },
      "source": [
        "def gd(f, x0, step=0.1, decay=0.995, niter=100):\n",
        "  \"\"\"approximates minimum of f starting from x0\n",
        "  \"\"\"\n",
        "  df = jax.grad(f)\n",
        "  x = x0\n",
        "  for i in range(niter):\n",
        "    x -= df(x)*step\n",
        "    step *= decay\n",
        "  return x"
      ],
      "execution_count": null,
      "outputs": []
    },
    {
      "cell_type": "markdown",
      "metadata": {
        "id": "s-2SedU9deMx"
      },
      "source": [
        "$$foo(x) = \\sin(x)\\exp(-(x-1)^2)$$"
      ]
    },
    {
      "cell_type": "code",
      "metadata": {
        "id": "MoYPfQp_x4Rb"
      },
      "source": [
        "def foo(x):\n",
        "  a = np.exp(-(x-1)**2)\n",
        "  b = np.sin(x)\n",
        "  return a*b\n",
        "\n",
        "dfoo = jax.grad(foo)\n",
        "\n",
        "x = np.linspace(-4, 4, 100)\n",
        "plt.plot(x, [foo(x) for x in x], label=\"foo\")\n",
        "plt.plot(x, [dfoo(x) for x in x], label=\"d foo/d x\")\n",
        "plt.axhline(0, lw=0.5, ls='dashed', color='black')"
      ],
      "execution_count": null,
      "outputs": []
    },
    {
      "cell_type": "code",
      "metadata": {
        "id": "sqPs2N1k0YS5"
      },
      "source": [
        "x = gd(foo, 0.1*(random()-0.5), niter=200)\n",
        "print(f\"x={x:.3f} foo({x:.3f})={foo(x):.3f}\")"
      ],
      "execution_count": null,
      "outputs": []
    },
    {
      "cell_type": "markdown",
      "metadata": {
        "id": "y6Wc8Ebs5M-p"
      },
      "source": [
        "### Newton's method\n",
        "\n",
        "$$x \\leftarrow x - \\frac {f'(x)} {f''(x)}$$"
      ]
    },
    {
      "cell_type": "code",
      "metadata": {
        "id": "oVbC5wHUx9l8"
      },
      "source": [
        "def newton(f, x0, niter=10):\n",
        "  df = jax.grad(f)\n",
        "  ddf = jax.grad(df)\n",
        "  x = x0\n",
        "  for i in range(niter):\n",
        "    x = x - df(x)/ddf(x)\n",
        "  return x"
      ],
      "execution_count": null,
      "outputs": []
    },
    {
      "cell_type": "code",
      "metadata": {
        "id": "ZtTqvSTgyreQ"
      },
      "source": [
        "x = newton(foo, 0.1*(random()-0.5), niter=10)\n",
        "print(f\"x={x:.8f} foo({x:.3f})={foo(x):.3f}\")"
      ],
      "execution_count": null,
      "outputs": []
    },
    {
      "cell_type": "code",
      "metadata": {
        "id": "92yiIG9g4oZZ"
      },
      "source": [
        "ddfoo = jax.grad(dfoo)\n",
        "\n",
        "x = np.linspace(-4, 4, 100)\n",
        "_ = plt.plot(x, [(foo(x), dfoo(x), ddfoo(x)) for x in x])"
      ],
      "execution_count": null,
      "outputs": []
    },
    {
      "cell_type": "markdown",
      "metadata": {
        "id": "kgHbIhzz8vKp"
      },
      "source": [
        "## Application to machine learning\n",
        "\n",
        "### Linear regression"
      ]
    },
    {
      "cell_type": "code",
      "metadata": {
        "id": "IcqOagLC9WtK"
      },
      "source": [
        "municipalities = np.array([(441976, 2359), (309912, 1311), (35821, 14), (1064523, 31664), (50022, 99), (94194, 219), (1118363, 104246), (766247, 2009), (59246, 147), (96671, 271), (293166, 5864), (24842, 63), (275797, 3920), (255611, 670), (41512, 133), (75471, 235), (34456, 13), (98014, 312), (279091, 1299), (211264, 197), (79595, 410), (168959, 60), (169312, 791), (216749, 293), (106626, 172), (150191, 334), (49265, 189), (884039, 1675), (140857, 179), (73957, 226), (244515, 256), (73131, 36), (12603, 7), (48506, 448), (50863, 551), (136575, 1167), (136690, 194), (139017, 24), (246157, 4046), (41822, 117), (31105, 65), (402087, 1614), (740243, 501), (207791, 151), (18121, 218), (171057, 580), (359594, 6872), (152634, 514), (30140, 69), (76103, 2421), (135252, 510), (367552, 4688), (58093, 163), (134205, 337), (12236, 6), (75847, 230), (148942, 1450), (98733, 960), (106797, 272), (813137, 4436), (235134, 3393), (14560, 23), (315429, 1446), (289005, 1413), (576211, 6947), (340761, 697), (287344, 827), (146912, 356), (38384, 89), (112529, 911), (35154, 41), (52997, 167), (613572, 2031), (401093, 1082), (166448, 87), (44096, 104), (39067, 79), (100361, 294), (394099, 872), (52341, 142), (298666, 378), (90943, 524), (8125, 14), (34134, 292), (29867, 13), (43846, 562), (1254812, 17713), (33761, 92), (169031, 612), (990827, 15279), (229676, 1517), (38409, 777), (199770, 666), (142900, 851), (155468, 239), (438265, 1960), (37765, 57), (66980, 63), (70981, 162), (504659, 1570)])"
      ],
      "execution_count": null,
      "outputs": []
    },
    {
      "cell_type": "code",
      "metadata": {
        "id": "TxNJEEs8930p"
      },
      "source": [
        "populations = municipalities[:, 0]\n",
        "cases = municipalities[:, 1]\n",
        "plt.scatter(populations, cases)\n",
        "plt.xscale(\"log\")\n",
        "plt.xlabel(\"population\")\n",
        "plt.yscale(\"log\")\n",
        "plt.ylabel(\"number of cases\")"
      ],
      "execution_count": null,
      "outputs": []
    },
    {
      "cell_type": "markdown",
      "metadata": {
        "id": "z-cqMJFv7Naz"
      },
      "source": [
        "$$\\log(\\texttt{cases}) = a_0\\cdot \\log(\\texttt{population}) +a_1$$"
      ]
    },
    {
      "cell_type": "code",
      "metadata": {
        "id": "v0HgZHF3-C8g"
      },
      "source": [
        "def loss(a):\n",
        "  \"\"\"computes square loss of linear regression.\n",
        "  \"\"\"\n",
        "  # we could write a loop here, but that would be too slow for optimization\n",
        "  err = np.log(cases) - a[0]*np.log(populations) - a[1]\n",
        "  # sumerr = 0\n",
        "  # for i in range(len(cases)):\n",
        "  #    err = np.log(cases[i]) - a[0]*np.log(populations[i]) - a[1]\n",
        "  #    summerr += err*err\n",
        "  return np.mean(err*err)"
      ],
      "execution_count": null,
      "outputs": []
    },
    {
      "cell_type": "code",
      "metadata": {
        "id": "Fps0tQ5Z_D_U"
      },
      "source": [
        "a = gd(loss, np.array([1., np.log(np.sum(cases)/np.sum(populations))]), step=0.01, decay=0.99, niter=200)\n",
        "print(f\"log(c)={a[0]:.3f}*log(p){a[1]:+.3f}\")"
      ],
      "execution_count": null,
      "outputs": []
    },
    {
      "cell_type": "code",
      "metadata": {
        "id": "-UNtdlGaEPAk"
      },
      "source": [
        "plt.scatter(np.log(populations), np.log(cases))\n",
        "x = np.linspace(min(np.log(populations)), max(np.log(populations)), 100)\n",
        "plt.plot(x, a[0]*x + a[1],  color=\"green\")\n",
        "plt.xlabel(\"log(populations)\")\n",
        "plt.ylabel(\"log(cases)\")"
      ],
      "execution_count": null,
      "outputs": []
    },
    {
      "cell_type": "code",
      "metadata": {
        "id": "je6-qaNcdJ8_"
      },
      "source": [],
      "execution_count": null,
      "outputs": []
    }
  ]
}