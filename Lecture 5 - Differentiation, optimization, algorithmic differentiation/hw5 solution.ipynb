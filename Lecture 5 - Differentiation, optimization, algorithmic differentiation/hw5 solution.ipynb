{
  "nbformat": 4,
  "nbformat_minor": 0,
  "metadata": {
    "colab": {
      "provenance": []
    },
    "kernelspec": {
      "display_name": "nbgrader",
      "language": "python",
      "name": "nbgrader"
    },
    "language_info": {
      "codemirror_mode": {
        "name": "ipython",
        "version": 3
      },
      "file_extension": ".py",
      "mimetype": "text/x-python",
      "name": "python",
      "nbconvert_exporter": "python",
      "pygments_lexer": "ipython3",
      "version": "3.8.5"
    }
  },
  "cells": [
    {
      "cell_type": "markdown",
      "metadata": {
        "id": "FYXrQEuHXyTW"
      },
      "source": [
        "Instructions:\n",
        "1. Make sure you fill in any place that says `YOUR CODE HERE` or \"YOUR ANSWER HERE\"\n",
        "2. Do not add or remove cells to the document, inside the current cells you can add helper functions if you wish.\n",
        "3. Download the file and submit only one file named hw4.ipynb (Do not change file name!)\n",
        "4. Work alone, you can use any resource that was presented in class!\n",
        "5. Before you turn this problem in, make sure everything runs as expected. First, **restart the kernel** (in the menubar, select Kernel$\\rightarrow$Restart) and then **run all cells** (in the menubar, select Runtime$\\rightarrow$Run All).\n",
        "6. Clear all outputs - Edit$\\rightarrow$Clear all outputs\n"
      ]
    },
    {
      "cell_type": "markdown",
      "metadata": {
        "id": "uMpDZmNRXyTb"
      },
      "source": [
        "---"
      ]
    },
    {
      "cell_type": "markdown",
      "metadata": {
        "deletable": false,
        "editable": false,
        "id": "-Ddvr3pHG4yc",
        "nbgrader": {
          "cell_type": "markdown",
          "checksum": "7e28609ee8536d4770a5acd79467683e",
          "grade": false,
          "grade_id": "cell-d826f2a5211905e3",
          "locked": true,
          "schema_version": 3,
          "solution": false,
          "task": false
        }
      },
      "source": [
        "# Assignment 5: Differentiation and optimization"
      ]
    },
    {
      "cell_type": "code",
      "metadata": {
        "deletable": false,
        "editable": false,
        "id": "_pVdjMLHG4yd",
        "nbgrader": {
          "cell_type": "code",
          "checksum": "68ac4d1b8278a50275435a7cdcb117d3",
          "grade": false,
          "grade_id": "cell-2c47810b587eba40",
          "locked": true,
          "schema_version": 3,
          "solution": false,
          "task": false
        }
      },
      "source": [
        "import sympy as sym # symbolic differentiation\n",
        "import jax          # algorithmic differentiation\n",
        "import jax.numpy as np\n",
        "import matplotlib.pyplot as plt"
      ],
      "execution_count": 1,
      "outputs": []
    },
    {
      "cell_type": "markdown",
      "metadata": {
        "deletable": false,
        "editable": false,
        "nbgrader": {
          "cell_type": "markdown",
          "checksum": "5acfe76de27c1d2787061d5393c66a69",
          "grade": false,
          "grade_id": "cell-8e70e66cf8309900",
          "locked": true,
          "schema_version": 3,
          "solution": false,
          "task": false
        },
        "id": "xzGYUlGYXyTc"
      },
      "source": [
        "## Question 1: Differentiation\n",
        "\n",
        "Function\n",
        "\n",
        "$$f(a, b) = \\frac 2 a sin(b) \\exp \\left( - \\frac {a^2} {b^2}\\right)$$\n",
        "\n",
        "is given."
      ]
    },
    {
      "cell_type": "markdown",
      "metadata": {
        "deletable": false,
        "editable": false,
        "nbgrader": {
          "cell_type": "markdown",
          "checksum": "7c66850d2769109ae45e3fe88d5c41cd",
          "grade": false,
          "grade_id": "cell-8f63e6aeedb5c09b",
          "locked": true,
          "schema_version": 3,
          "solution": false,
          "task": false
        },
        "id": "aXmB2P2vXyTd"
      },
      "source": [
        "1. Derive the partial derivatives of $f(a, b)$ by $a$ and $b$.\n",
        "\n",
        "    $$\\frac {\\partial f} {\\partial a} = $$\n",
        "    $$\\frac {\\partial f} {\\partial b} = $$\n",
        "\n",
        "Implement the function f_partial_derviatives:\n",
        "\n",
        "<pre>\n",
        "Input parameters:\n",
        "a - first symbol\n",
        "b - second symbol\n",
        "return value - a tuple (dfa, dfb) such that dfa is the partial derivatives of f by a,\n",
        "               and dfb is the partial derivative of f by b\n",
        "</pre>"
      ]
    },
    {
      "cell_type": "code",
      "metadata": {
        "deletable": false,
        "nbgrader": {
          "cell_type": "code",
          "checksum": "80600e68fbd9a8fa065f02b6bd9b0baf",
          "grade": false,
          "grade_id": "cell-fcc26ea16c7fcc6e",
          "locked": false,
          "schema_version": 3,
          "solution": true,
          "task": false
        },
        "id": "Bt4hqb2GXyTd"
      },
      "source": [
        "def f_partial_derviatives_symbol(a, b):\n",
        "  dfa = sym.diff((((2/a) * sym.sin(b) * sym.exp((-1) * ((a*a)/(b*b)))  )),a)\n",
        "  dfb = sym.diff((((2/a) * sym.sin(b) * sym.exp((-1) * ((a*a)/(b*b)))  )),b)\n",
        "\n",
        "  return (dfa, dfb)\n",
        "\n"
      ],
      "execution_count": 2,
      "outputs": []
    },
    {
      "cell_type": "code",
      "metadata": {
        "deletable": false,
        "editable": false,
        "nbgrader": {
          "cell_type": "code",
          "checksum": "786889cd0849242f4f30bd9a443f5dfd",
          "grade": true,
          "grade_id": "cell-910c1caba85f9efe",
          "locked": true,
          "points": 2,
          "schema_version": 3,
          "solution": false,
          "task": false
        },
        "id": "70X0oYqnXyTe",
        "colab": {
          "base_uri": "https://localhost:8080/"
        },
        "outputId": "e7550c92-91a9-4fee-af97-770ffa8aaf3b"
      },
      "source": [
        "# --------------------------- RUN THIS TEST CODE CELL -------------------------------------\n",
        "# Q1.1 --- Test your implementation:\n",
        "# ---------------------------\n",
        "print(\"Testing the implementation of the 'f_partial_derviatives_symbol' function..\\n \")\n",
        "a=sym.Symbol('a')\n",
        "b=sym.Symbol('b')\n",
        "f_deriv_a, f_deriv_b = f_partial_derviatives_symbol(a, b)\n",
        "assert isinstance(f_deriv_a, sym.Basic)\n",
        "assert isinstance(f_deriv_b, sym.Basic)\n",
        "print (\"good job!\\nSanity tests passed. There are additional hidden tests...\")\n",
        "print(f\"Dervative with respect to a is: {f_deriv_a}\")\n",
        "print(f\"Dervative with respect to b is: {f_deriv_b}\")\n"
      ],
      "execution_count": 3,
      "outputs": [
        {
          "output_type": "stream",
          "name": "stdout",
          "text": [
            "Testing the implementation of the 'f_partial_derviatives_symbol' function..\n",
            " \n",
            "good job!\n",
            "Sanity tests passed. There are additional hidden tests...\n",
            "Dervative with respect to a is: -4*exp(-a**2/b**2)*sin(b)/b**2 - 2*exp(-a**2/b**2)*sin(b)/a**2\n",
            "Dervative with respect to b is: 4*a*exp(-a**2/b**2)*sin(b)/b**3 + 2*exp(-a**2/b**2)*cos(b)/a\n"
          ]
        }
      ]
    },
    {
      "cell_type": "markdown",
      "metadata": {
        "deletable": false,
        "editable": false,
        "nbgrader": {
          "cell_type": "markdown",
          "checksum": "19358409e08ee5150391dee7d8699370",
          "grade": false,
          "grade_id": "cell-5cbb42199eaf95ef",
          "locked": true,
          "schema_version": 3,
          "solution": false,
          "task": false
        },
        "id": "MN3Qkp1IXyTe"
      },
      "source": [
        "2. Derive the same derivatives by a and b, but using using algorithmic differentiation this time (with `jax`).\n",
        "\n",
        "Implement the function f, and f_partial_derviatives_algo:\n",
        "\n",
        "<pre>\n",
        "f:\n",
        "Input parameters:\n",
        "a,b - point (a,b)\n",
        "return value - the output of the equation of Question 1\n",
        "\n",
        "f_partial_derviatives_algo:\n",
        "Input parameters:\n",
        "f - a function\n",
        "a,b - point(a,b)\n",
        "return value - a tuple (dfa, dfb) such that dfa is the partial derivatives of f by a,\n",
        "               and dfb is the partial derivative of f by b\n",
        "</pre>"
      ]
    },
    {
      "cell_type": "code",
      "metadata": {
        "deletable": false,
        "nbgrader": {
          "cell_type": "code",
          "checksum": "e4ce43ce84665c666cc4367cd4d75f16",
          "grade": false,
          "grade_id": "cell-68ca280308184043",
          "locked": false,
          "schema_version": 3,
          "solution": true,
          "task": false
        },
        "id": "3mdpRFjUXyTf"
      },
      "source": [
        "def f(a, b):\n",
        "    e1 = 2/a\n",
        "    e2 = np.sin(b)\n",
        "    e3 = np.exp((-1)*(a*a)/(b*b))\n",
        "    return e1 * e2 * e3\n",
        "\n",
        "def f_partial_derviatives_algo(f, a ,b):\n",
        "    dfa = jax.grad(f, argnums=0)\n",
        "    dfb = jax.grad(f, argnums=1)\n",
        "\n",
        "    return (dfa, dfb)"
      ],
      "execution_count": 13,
      "outputs": []
    },
    {
      "cell_type": "code",
      "metadata": {
        "deletable": false,
        "editable": false,
        "nbgrader": {
          "cell_type": "code",
          "checksum": "ed15d3176f8ccbaf8deebdb1f1b6e175",
          "grade": true,
          "grade_id": "cell-bf714cb7381ed64d",
          "locked": true,
          "points": 2,
          "schema_version": 3,
          "solution": false,
          "task": false
        },
        "id": "91XTOjo-XyTf",
        "colab": {
          "base_uri": "https://localhost:8080/"
        },
        "outputId": "c0029e52-39ae-4511-c8db-c011b15d4068"
      },
      "source": [
        "# --------------------------- RUN THIS TEST CODE CELL -------------------------------------\n",
        "# Q1.2 --- Test your implementation:\n",
        "# ---------------------------\n",
        "print(\"Testing the implementation of the 'f_partial_derviatives_algo' function..\\n \")\n",
        "a=1.\n",
        "b=1.\n",
        "f_deriv_a, f_deriv_b = f_partial_derviatives_algo(f, a, b)\n",
        "assert callable(f_deriv_a)\n",
        "assert callable(f_deriv_b)\n",
        "assert f_deriv_a(a, b) < 0\n",
        "assert f_deriv_b(a, b) > 0\n",
        "print (\"good job!\\nSanity tests passed. There are additional hidden tests...\")\n",
        "print(f\"Dervative with respect to a is: {f_deriv_a(a,b)}\")\n",
        "print(f\"Dervative with respect to b is: {f_deriv_b(a,b)}\")\n"
      ],
      "execution_count": 14,
      "outputs": [
        {
          "output_type": "stream",
          "name": "stdout",
          "text": [
            "Testing the implementation of the 'f_partial_derviatives_algo' function..\n",
            " \n",
            "good job!\n",
            "Sanity tests passed. There are additional hidden tests...\n",
            "Dervative with respect to a is: -1.8573592901229858\n",
            "Dervative with respect to b is: 1.6357717514038086\n"
          ]
        }
      ]
    },
    {
      "cell_type": "markdown",
      "metadata": {
        "deletable": false,
        "editable": false,
        "nbgrader": {
          "cell_type": "markdown",
          "checksum": "e234237cf36aabcca272f450f45a879f",
          "grade": false,
          "grade_id": "cell-2f70f1b68a8a3397",
          "locked": true,
          "schema_version": 3,
          "solution": false,
          "task": false
        },
        "id": "3xzJRRJ9XyTf"
      },
      "source": [
        "3. Plot the following:\n",
        "\n",
        "a. One subplot for both:\n",
        "\n",
        "  * $f(a, 10)$, $\\frac {\\partial f(a, 10)} {\\partial a}$ for range $a \\in [-20, 20]$,\n",
        "\n",
        "b. A seperate subplot below the first subplot for:\n",
        "\n",
        "  * $f(10, b)$, $\\frac {\\partial f(10, b)} {\\partial b}$ for range $b \\in [1, 100]$.\n"
      ]
    },
    {
      "cell_type": "code",
      "metadata": {
        "deletable": false,
        "nbgrader": {
          "cell_type": "code",
          "checksum": "ee87320d9fe95a363022b938145f6f5d",
          "grade": true,
          "grade_id": "cell-7c4c505ac0fa2e26",
          "locked": false,
          "points": 2,
          "schema_version": 3,
          "solution": true,
          "task": false
        },
        "id": "LtfniyKQXyTg",
        "colab": {
          "base_uri": "https://localhost:8080/",
          "height": 447
        },
        "outputId": "23ef37e5-b137-4735-f6c3-331791f55eb4"
      },
      "source": [
        "# show you plots here:\n",
        "\n",
        "df = jax.grad(f,argnums=0)\n",
        "\n",
        "x = np.linspace(-20, 20, 100)\n",
        "plt.plot(x, [f(x,10) for x in x], label=\"f(a,10)\")\n",
        "plt.plot(x, [df(x,10) for x in x], label=\"d f(a,10)/d a\")\n",
        "plt.legend()\n",
        "plt.axhline(0, lw=0.5, ls='dashed', color='black')\n",
        "\n",
        "\n",
        "df = jax.grad(f,argnums=1)\n",
        "\n",
        "y = np.linspace(1, 100, 100)\n",
        "plt.plot(x, [f(10,x) for x in y], label=\"f(10,b)\")\n",
        "plt.plot(x, [df(10,x) for x in y], label=\"d f(10,b)/d b\")\n",
        "plt.legend()\n",
        "plt.axhline(0, lw=0.5, ls='dashed', color='black')\n",
        "\n"
      ],
      "execution_count": 16,
      "outputs": [
        {
          "output_type": "execute_result",
          "data": {
            "text/plain": [
              "<matplotlib.lines.Line2D at 0x7f151599f880>"
            ]
          },
          "metadata": {},
          "execution_count": 16
        },
        {
          "output_type": "display_data",
          "data": {
            "text/plain": [
              "<Figure size 640x480 with 1 Axes>"
            ],
            "image/png": "[encoded data removed]"
          },
          "metadata": {}
        }
      ]
    },
    {
      "cell_type": "markdown",
      "metadata": {
        "deletable": false,
        "editable": false,
        "nbgrader": {
          "cell_type": "markdown",
          "checksum": "f8033254cb6c569ca12a1c2b7d1e6a6b",
          "grade": false,
          "grade_id": "cell-d41582685181dca1",
          "locked": true,
          "schema_version": 3,
          "solution": false,
          "task": false
        },
        "id": "FhKmgAcPXyTg"
      },
      "source": [
        "4. Implement a function for approximate numerical differentiation, given the difference size $h$.\n",
        "\n",
        "Implement the function f_partial_derviatives_numeric_at_a_b:\n",
        "\n",
        "<pre>\n",
        "Input parameters:\n",
        "f - function f\n",
        "a - first parameter of f\n",
        "b - second parameter of f\n",
        "h - the change of the variable to approximate the derivative by\n",
        "return value - a tuple that contains partial derivatives of f by a and b approximated at (a,b)\n",
        "</pre>"
      ]
    },
    {
      "cell_type": "code",
      "metadata": {
        "deletable": false,
        "nbgrader": {
          "cell_type": "code",
          "checksum": "a05425f84b97d3f347c1f3c82b4a2214",
          "grade": false,
          "grade_id": "cell-1dc99d4eaa406e89",
          "locked": false,
          "schema_version": 3,
          "solution": true,
          "task": false
        },
        "id": "hYx3JMg6XyTh"
      },
      "source": [
        "def f_partial_derviatives_numeric_at_a_b(f, a, b, h):\n",
        "    dfa=(f(a+h,b)-f(a,b))/h\n",
        "    dfb=(f(a,b+h)-f(a,b))/h\n",
        "    return dfa,dfb"
      ],
      "execution_count": 17,
      "outputs": []
    },
    {
      "cell_type": "code",
      "metadata": {
        "deletable": false,
        "editable": false,
        "nbgrader": {
          "cell_type": "code",
          "checksum": "4eb71eab53355a28e5d61b8d34358c6b",
          "grade": true,
          "grade_id": "cell-f9a81b3184e827ab",
          "locked": true,
          "points": 2,
          "schema_version": 3,
          "solution": false,
          "task": false
        },
        "id": "z56XLhUkXyTh",
        "colab": {
          "base_uri": "https://localhost:8080/"
        },
        "outputId": "ff7de2d9-c95d-4c6a-cebc-cd587439a10e"
      },
      "source": [
        "# --------------------------- RUN THIS TEST CODE CELL -------------------------------------\n",
        "# Q1.4 --- Test your implementation:\n",
        "# ---------------------------\n",
        "print(\"Testing the implementation of the 'f_partial_derviatives_numeric' function..\\n \")\n",
        "a=1.\n",
        "b=1.\n",
        "f_deriv_a_at_a_b, f_deriv_b_at_a_b = f_partial_derviatives_numeric_at_a_b(f, a, b, 1e-6)\n",
        "assert f_deriv_a_at_a_b < 0\n",
        "assert f_deriv_b_at_a_b > 0\n",
        "print (\"good job!\\nSanity tests passed. There are additional hidden tests...\")\n"
      ],
      "execution_count": 19,
      "outputs": [
        {
          "output_type": "stream",
          "name": "stdout",
          "text": [
            "Testing the implementation of the 'f_partial_derviatives_numeric' function..\n",
            " \n",
            "good job!\n",
            "Sanity tests passed. There are additional hidden tests...\n"
          ]
        }
      ]
    },
    {
      "cell_type": "markdown",
      "metadata": {
        "deletable": false,
        "editable": false,
        "nbgrader": {
          "cell_type": "markdown",
          "checksum": "b269e94a9851cc15881552aec439ff36",
          "grade": false,
          "grade_id": "cell-6f154f57c695e08e",
          "locked": true,
          "schema_version": 3,
          "solution": false,
          "task": false
        },
        "id": "S0gex10bXyTh"
      },
      "source": [
        "5. Find the best difference size $h$ for differentiating\n",
        "   * $f(a, b)$ by $a$.\n",
        "   * $f(a, b)$ by $b$.\n",
        "\n",
        "The best difference size minimizes the absolute error of numerical differentiation relative to the exact differentiation.\n",
        "\n",
        "Implement the function f_deriv_by_a_optimize_h:\n",
        "\n",
        "<pre>\n",
        "Input parameters:\n",
        "a - first parameter of f\n",
        "b - second parameter of f\n",
        "return value - the absoltue difference between the vaule of the derivative using the best difference h to do numeric differentiation of f(a,b) by a and the algorithmic derivative by a\n",
        "</pre>\n",
        "\n",
        "Implement the function f_deriv_by_b_optimize_h:\n",
        "\n",
        "<pre>\n",
        "Input parameters:\n",
        "a - first parameter of f\n",
        "b - second parameter of f\n",
        "return value - the absoltue difference between the vaule of the derivative using the best difference h to do numeric differentiation of f(a,b) by b and the algorithmic derivative by b\n",
        "</pre>\n",
        "\n",
        "Non-Mandatory: draw plots of the abolute error by h\n",
        "(it's a good practice for you to validate that the results make sense)\n",
        "\n",
        "* Allowed relative tolerance is up to 100 (so if best h=1e-04, any value between 1e-02 and 1e-06 is allowed)"
      ]
    },
    {
      "cell_type": "code",
      "metadata": {
        "deletable": false,
        "nbgrader": {
          "cell_type": "code",
          "checksum": "920a2cce72f823d4b3e31c29c48ac272",
          "grade": false,
          "grade_id": "cell-1bd9e03b2999d29f",
          "locked": false,
          "schema_version": 3,
          "solution": true,
          "task": false
        },
        "id": "y43U-pVkXyTi"
      },
      "source": [
        "def f_deriv_by_a_optimize_h(a, b):\n",
        "    e1 = (2/a)\n",
        "    e2 = np.sin(b)\n",
        "    e3 = (np.exp(-((pow(a,2))/(pow(b,2)))))\n",
        "    f= e1 * e2 * e3\n",
        "\n",
        "    best_h = None\n",
        "    best_derivative = None\n",
        "\n",
        "    for h in range(1, 10000):\n",
        "        derivative = (f(a+h,b)-f(a,b))/h\n",
        "\n",
        "        if (best_derivative is None or abs(derivative-jax.grad(f,argnums=0)) < abs(best_derivative-jax.grad(f,argnums=0))):\n",
        "            best_h = h\n",
        "            best_derivative = derivative\n",
        "\n",
        "    return abs(best_derivative-jax.grad(f,argnums=0))\n",
        "\n",
        "\n",
        "# - doesn't work... what's wrong with this?"
      ],
      "execution_count": 20,
      "outputs": []
    },
    {
      "cell_type": "code",
      "metadata": {
        "deletable": false,
        "nbgrader": {
          "cell_type": "code",
          "checksum": "d4df9aee6d7ee97ade14d13e6743552f",
          "grade": false,
          "grade_id": "cell-aafc10f1c62a469a",
          "locked": false,
          "schema_version": 3,
          "solution": true,
          "task": false
        },
        "id": "UAN7y5HJXyTj"
      },
      "source": [
        "def f_deriv_by_b_optimize_h(a, b):\n",
        "    e1 = (2/a)\n",
        "    e2 = np.sin(b)\n",
        "    e3 = (np.exp(-((pow(a,2))/(pow(b,2)))))\n",
        "    f= e1 * e2 * e3\n",
        "\n",
        "    best_h = None\n",
        "    best_derivative = None\n",
        "\n",
        "    for h in range(1, 10000):\n",
        "        derivative =(f(a+h,b)-f(a,b))/h\n",
        "\n",
        "        if (best_derivative is None or abs(derivative-jax.grad(f,argnums=0)) < abs(best_derivative-jax.grad(f,argnums=0))):\n",
        "            best_h = h\n",
        "            best_derivative = derivative\n",
        "\n",
        "    return abs(best_derivative-jax.grad(f,argnums=1))\n",
        "\n",
        "# - doesn't work... what's wrong with this?"
      ],
      "execution_count": 21,
      "outputs": []
    },
    {
      "cell_type": "code",
      "metadata": {
        "deletable": false,
        "editable": false,
        "nbgrader": {
          "cell_type": "code",
          "checksum": "8ef50f28ac8b9242fc89ed47f93fbfec",
          "grade": true,
          "grade_id": "cell-65a8e984bababd74",
          "locked": true,
          "points": 2,
          "schema_version": 3,
          "solution": false,
          "task": false
        },
        "id": "un6ixXjfXyTj",
        "colab": {
          "base_uri": "https://localhost:8080/",
          "height": 391
        },
        "outputId": "20fa9337-9db1-414c-87eb-7792eca9efd3"
      },
      "source": [
        "# --------------------------- RUN THIS TEST CODE CELL -------------------------------------\n",
        "# Q1.5 --- Test your implementation:\n",
        "# ---------------------------\n",
        "print(\"Testing the implementation of the 'f_partial_derviatives_numeric' function..\\n \")\n",
        "assert f_deriv_by_a_optimize_h(a,b) < 1e-04\n",
        "assert f_deriv_by_b_optimize_h(a,b) < 1e-04\n",
        "print (\"good job!\\nSanity tests passed. There are additional hidden tests...\")\n"
      ],
      "execution_count": 23,
      "outputs": [
        {
          "output_type": "stream",
          "name": "stdout",
          "text": [
            "Testing the implementation of the 'f_partial_derviatives_numeric' function..\n",
            " \n"
          ]
        },
        {
          "output_type": "error",
          "ename": "TypeError",
          "evalue": "ignored",
          "traceback": [
            "\u001b[0;31m---------------------------------------------------------------------------\u001b[0m",
            "\u001b[0;31mTypeError\u001b[0m                                 Traceback (most recent call last)",
            "\u001b[0;32m<ipython-input-23-6ceb469e936b>\u001b[0m in \u001b[0;36m<cell line: 5>\u001b[0;34m()\u001b[0m\n\u001b[1;32m      3\u001b[0m \u001b[0;31m# ---------------------------\u001b[0m\u001b[0;34m\u001b[0m\u001b[0;34m\u001b[0m\u001b[0m\n\u001b[1;32m      4\u001b[0m \u001b[0mprint\u001b[0m\u001b[0;34m(\u001b[0m\u001b[0;34m\"Testing the implementation of the 'f_partial_derviatives_numeric' function..\\n \"\u001b[0m\u001b[0;34m)\u001b[0m\u001b[0;34m\u001b[0m\u001b[0;34m\u001b[0m\u001b[0m\n\u001b[0;32m----> 5\u001b[0;31m \u001b[0;32massert\u001b[0m \u001b[0mf_deriv_by_a_optimize_h\u001b[0m\u001b[0;34m(\u001b[0m\u001b[0ma\u001b[0m\u001b[0;34m,\u001b[0m\u001b[0mb\u001b[0m\u001b[0;34m)\u001b[0m \u001b[0;34m<\u001b[0m \u001b[0;36m1e-04\u001b[0m\u001b[0;34m\u001b[0m\u001b[0;34m\u001b[0m\u001b[0m\n\u001b[0m\u001b[1;32m      6\u001b[0m \u001b[0;32massert\u001b[0m \u001b[0mf_deriv_by_b_optimize_h\u001b[0m\u001b[0;34m(\u001b[0m\u001b[0ma\u001b[0m\u001b[0;34m,\u001b[0m\u001b[0mb\u001b[0m\u001b[0;34m)\u001b[0m \u001b[0;34m<\u001b[0m \u001b[0;36m1e-04\u001b[0m\u001b[0;34m\u001b[0m\u001b[0;34m\u001b[0m\u001b[0m\n\u001b[1;32m      7\u001b[0m \u001b[0mprint\u001b[0m \u001b[0;34m(\u001b[0m\u001b[0;34m\"good job!\\nSanity tests passed. There are additional hidden tests...\"\u001b[0m\u001b[0;34m)\u001b[0m\u001b[0;34m\u001b[0m\u001b[0;34m\u001b[0m\u001b[0m\n",
            "\u001b[0;32m<ipython-input-20-03b31e18ee2d>\u001b[0m in \u001b[0;36mf_deriv_by_a_optimize_h\u001b[0;34m(a, b)\u001b[0m\n\u001b[1;32m      9\u001b[0m \u001b[0;34m\u001b[0m\u001b[0m\n\u001b[1;32m     10\u001b[0m     \u001b[0;32mfor\u001b[0m \u001b[0mh\u001b[0m \u001b[0;32min\u001b[0m \u001b[0mrange\u001b[0m\u001b[0;34m(\u001b[0m\u001b[0;36m1\u001b[0m\u001b[0;34m,\u001b[0m \u001b[0;36m10000\u001b[0m\u001b[0;34m)\u001b[0m\u001b[0;34m:\u001b[0m\u001b[0;34m\u001b[0m\u001b[0;34m\u001b[0m\u001b[0m\n\u001b[0;32m---> 11\u001b[0;31m         \u001b[0mderivative\u001b[0m \u001b[0;34m=\u001b[0m \u001b[0;34m(\u001b[0m\u001b[0mf\u001b[0m\u001b[0;34m(\u001b[0m\u001b[0ma\u001b[0m\u001b[0;34m+\u001b[0m\u001b[0mh\u001b[0m\u001b[0;34m,\u001b[0m\u001b[0mb\u001b[0m\u001b[0;34m)\u001b[0m\u001b[0;34m-\u001b[0m\u001b[0mf\u001b[0m\u001b[0;34m(\u001b[0m\u001b[0ma\u001b[0m\u001b[0;34m,\u001b[0m\u001b[0mb\u001b[0m\u001b[0;34m)\u001b[0m\u001b[0;34m)\u001b[0m\u001b[0;34m/\u001b[0m\u001b[0mh\u001b[0m\u001b[0;34m\u001b[0m\u001b[0;34m\u001b[0m\u001b[0m\n\u001b[0m\u001b[1;32m     12\u001b[0m \u001b[0;34m\u001b[0m\u001b[0m\n\u001b[1;32m     13\u001b[0m         \u001b[0;32mif\u001b[0m \u001b[0;34m(\u001b[0m\u001b[0mbest_derivative\u001b[0m \u001b[0;32mis\u001b[0m \u001b[0;32mNone\u001b[0m \u001b[0;32mor\u001b[0m \u001b[0mabs\u001b[0m\u001b[0;34m(\u001b[0m\u001b[0mderivative\u001b[0m\u001b[0;34m-\u001b[0m\u001b[0mjax\u001b[0m\u001b[0;34m.\u001b[0m\u001b[0mgrad\u001b[0m\u001b[0;34m(\u001b[0m\u001b[0mf\u001b[0m\u001b[0;34m,\u001b[0m\u001b[0margnums\u001b[0m\u001b[0;34m=\u001b[0m\u001b[0;36m0\u001b[0m\u001b[0;34m)\u001b[0m\u001b[0;34m)\u001b[0m \u001b[0;34m<\u001b[0m \u001b[0mabs\u001b[0m\u001b[0;34m(\u001b[0m\u001b[0mbest_derivative\u001b[0m\u001b[0;34m-\u001b[0m\u001b[0mjax\u001b[0m\u001b[0;34m.\u001b[0m\u001b[0mgrad\u001b[0m\u001b[0;34m(\u001b[0m\u001b[0mf\u001b[0m\u001b[0;34m,\u001b[0m\u001b[0margnums\u001b[0m\u001b[0;34m=\u001b[0m\u001b[0;36m0\u001b[0m\u001b[0;34m)\u001b[0m\u001b[0;34m)\u001b[0m\u001b[0;34m)\u001b[0m\u001b[0;34m:\u001b[0m\u001b[0;34m\u001b[0m\u001b[0;34m\u001b[0m\u001b[0m\n",
            "\u001b[0;31mTypeError\u001b[0m: 'ArrayImpl' object is not callable"
          ]
        }
      ]
    },
    {
      "cell_type": "markdown",
      "metadata": {
        "deletable": false,
        "editable": false,
        "nbgrader": {
          "cell_type": "markdown",
          "checksum": "b289fe25b06385665a5b837b797c3a07",
          "grade": false,
          "grade_id": "cell-89f9f7e53914ff2a",
          "locked": true,
          "schema_version": 3,
          "solution": false,
          "task": false
        },
        "id": "o5l1m0bfXyTj"
      },
      "source": [
        "## Question 2: Optimization\n",
        "\n",
        "### Logistic regression\n",
        "\n",
        "For a trial group of rats https://en.wikipedia.org/wiki/Rat , the weight and the event of having diabetes are given as a list of pairs (weight, diabetes) (1 corresponds to diabetes):\n"
      ]
    },
    {
      "cell_type": "code",
      "metadata": {
        "deletable": false,
        "editable": false,
        "nbgrader": {
          "cell_type": "code",
          "checksum": "2761d5c514a701224fc4f10bcdb23660",
          "grade": false,
          "grade_id": "cell-5a43cf6adc2e93f6",
          "locked": true,
          "schema_version": 3,
          "solution": false,
          "task": false
        },
        "id": "2-VOlcvgXyTj"
      },
      "source": [
        "rats = [(0.47, 0), (0.23, 0), (0.86, 1), (0.22, 0), (0.21, 1),\n",
        "        (0.31, 0), (0.62, 0), (0.941, 1), (0.27, 0), (0.35, 1),\n",
        "        (0.18, 0), (0.13, 0), (0.31, 1), (0.99, 1), (0.85, 1),\n",
        "        (0.35, 1), (0.6, 1), (0.89, 0), (0.6, 1), (0.92, 0)]"
      ],
      "execution_count": 25,
      "outputs": []
    },
    {
      "cell_type": "markdown",
      "metadata": {
        "deletable": false,
        "editable": false,
        "nbgrader": {
          "cell_type": "markdown",
          "checksum": "a2fa05f56266446f3bd0b564aa1ba866",
          "grade": false,
          "grade_id": "cell-c03650829efcf55d",
          "locked": true,
          "schema_version": 3,
          "solution": false,
          "task": false
        },
        "id": "Kf1WKF4TXyTk"
      },
      "source": [
        "We want to predict rat diabetes based on weight. The prediction function is\n",
        "\n",
        "$$diabetes = {weight} \\ge threshold.$$\n",
        "\n",
        "The loss for this _classification_ problem is called log_loss:\n",
        "\n",
        "\\begin{equation}\n",
        "\\begin{aligned}\n",
        "& L = -\\sum_{i=1}^N (diabetes_i \\log p_i + (1 - diabetes_i) \\log (1 - p_i))\n",
        "\\end{aligned}\n",
        "\\end{equation}\n",
        "where the predicted probability is:\n",
        "\\begin{equation}\n",
        "\\begin{aligned}\n",
        "& p_i = \\frac 1 {1 + \\exp(threshold - \\frac{diabetes{_i}}{100})}\n",
        "\\end{aligned}\n",
        "\\end{equation}"
      ]
    },
    {
      "cell_type": "markdown",
      "metadata": {
        "deletable": false,
        "editable": false,
        "nbgrader": {
          "cell_type": "markdown",
          "checksum": "0216222f9a19f37697b90d9833949521",
          "grade": false,
          "grade_id": "cell-07381a88c978e1fe",
          "locked": true,
          "schema_version": 3,
          "solution": false,
          "task": false
        },
        "id": "UY9ZFwY1XyTk"
      },
      "source": [
        "1. Implement the loss as a function of the threshold.\n",
        "\n",
        "Implement the function care_bare_classification_loss:\n",
        "\n",
        "<pre>\n",
        "Input parameters:\n",
        "threashold - the treshold of the classification\n",
        "data - the data in the format of list of tuples\n",
        "return value - the loss as defined above\n",
        "</pre>"
      ]
    },
    {
      "cell_type": "code",
      "metadata": {
        "deletable": false,
        "nbgrader": {
          "cell_type": "code",
          "checksum": "69bd9fadddfc9fc5f58027576dc2b87f",
          "grade": false,
          "grade_id": "cell-da55752637b08a28",
          "locked": false,
          "schema_version": 3,
          "solution": true,
          "task": false
        },
        "id": "LF3x0HydXyTl"
      },
      "source": [
        "def rat_classification_loss(threshold, data=rats):\n",
        "    Loss=0\n",
        "\n",
        "    for rat in data:\n",
        "      diabetes=rat[1]\n",
        "      p=(1/(1+np.exp(threshold-rat[0])))\n",
        "      Loss-=(diabetes*np.log(p))+((1-diabetes)*np.log(1-p))\n",
        "    return Loss\n",
        "\n"
      ],
      "execution_count": 26,
      "outputs": []
    },
    {
      "cell_type": "code",
      "metadata": {
        "deletable": false,
        "editable": false,
        "nbgrader": {
          "cell_type": "code",
          "checksum": "da185926db5a90fbc8331d6360160a4b",
          "grade": true,
          "grade_id": "cell-1e51ea7117c6868f",
          "locked": true,
          "points": 2,
          "schema_version": 3,
          "solution": false,
          "task": false
        },
        "id": "xY1Se9TAXyTl",
        "colab": {
          "base_uri": "https://localhost:8080/"
        },
        "outputId": "7f87d061-29bf-4eb5-dfb8-57f15df7b65c"
      },
      "source": [
        "# --------------------------- RUN THIS TEST CODE CELL -------------------------------------\n",
        "# Q2.1 --- Test your implementation:\n",
        "# ---------------------------\n",
        "print(\"Testing the implementation of the 'loss' function..\\n \")\n",
        "assert rat_classification_loss(0.5) > 0\n",
        "print (\"good job!\\nSanity tests passed. There are additional hidden tests...\")\n"
      ],
      "execution_count": 29,
      "outputs": [
        {
          "output_type": "stream",
          "name": "stdout",
          "text": [
            "Testing the implementation of the 'loss' function..\n",
            " \n",
            "good job!\n",
            "Sanity tests passed. There are additional hidden tests...\n"
          ]
        }
      ]
    },
    {
      "cell_type": "markdown",
      "metadata": {
        "deletable": false,
        "editable": false,
        "nbgrader": {
          "cell_type": "markdown",
          "checksum": "d5a3342bab2991778a107e2b972e1a14",
          "grade": false,
          "grade_id": "cell-895b78311fff1ecb",
          "locked": true,
          "schema_version": 3,
          "solution": false,
          "task": false
        },
        "id": "btfDCVo2XyTl"
      },
      "source": [
        "2. Plot the loss and the derivative of the loss\n",
        "\n",
        "Implement a function rat_classification_loss_deriv\n",
        "\n",
        "<pre>\n",
        "Input parameters:\n",
        "threshold - the treshold of the classification\n",
        "return value - the derviative of the loss\n",
        "</pre>\n",
        "\n",
        "Now plot the loss and the derivative of the loss by the threshold in the range $threshold \\in (0.01, 0.99)$"
      ]
    },
    {
      "cell_type": "code",
      "metadata": {
        "deletable": false,
        "nbgrader": {
          "cell_type": "code",
          "checksum": "321af0fa872fe6d6d960c10b34b0776c",
          "grade": false,
          "grade_id": "cell-9e65d966d3fe2745",
          "locked": false,
          "schema_version": 3,
          "solution": true,
          "task": false
        },
        "id": "Imp8BOT8XyTm",
        "colab": {
          "base_uri": "https://localhost:8080/",
          "height": 447
        },
        "outputId": "0095450a-a06e-402a-ba72-a8edde0be3b0"
      },
      "source": [
        "def rat_classification_loss_deriv(threshold):\n",
        "    df = jax.grad(rat_classification_loss)\n",
        "    return df(threshold)\n",
        "\n",
        "#plotting\n",
        "x = np.linspace(0.01, 0.99)\n",
        "plt.plot(x, [rat_classification_loss(x) for x in x], label=\"f\")\n",
        "plt.plot(x, [rat_classification_loss_deriv(x) for x in x], label=\"df\")\n",
        "plt.legend()\n",
        "plt.axhline(0, lw=0.5, ls='dashed', color='black')"
      ],
      "execution_count": 30,
      "outputs": [
        {
          "output_type": "execute_result",
          "data": {
            "text/plain": [
              "<matplotlib.lines.Line2D at 0x7f15467075b0>"
            ]
          },
          "metadata": {},
          "execution_count": 30
        },
        {
          "output_type": "display_data",
          "data": {
            "text/plain": [
              "<Figure size 640x480 with 1 Axes>"
            ],
            "image/png": "[encoded data removed]"
          },
          "metadata": {}
        }
      ]
    },
    {
      "cell_type": "code",
      "metadata": {
        "deletable": false,
        "editable": false,
        "nbgrader": {
          "cell_type": "code",
          "checksum": "72cc6e1e04635a89ce9dcb48a820ee57",
          "grade": true,
          "grade_id": "cell-779160dbb3fa5fbf",
          "locked": true,
          "points": 2,
          "schema_version": 3,
          "solution": false,
          "task": false
        },
        "id": "iZetuHD1XyTm",
        "colab": {
          "base_uri": "https://localhost:8080/"
        },
        "outputId": "88f17e55-46a2-41c9-9a27-4044dcd7b016"
      },
      "source": [
        "# --------------------------- RUN THIS TEST CODE CELL -------------------------------------\n",
        "# Q2.2 --- Test your implementation:\n",
        "# ---------------------------\n",
        "print(\"Testing the implementation of the 'loss' function..\\n \")\n",
        "assert rat_classification_loss_deriv(0.5) < 0\n",
        "print (\"good job!\\nSanity tests passed. There are additional hidden tests...\")\n"
      ],
      "execution_count": 31,
      "outputs": [
        {
          "output_type": "stream",
          "name": "stdout",
          "text": [
            "Testing the implementation of the 'loss' function..\n",
            " \n",
            "good job!\n",
            "Sanity tests passed. There are additional hidden tests...\n"
          ]
        }
      ]
    },
    {
      "cell_type": "markdown",
      "metadata": {
        "deletable": false,
        "editable": false,
        "nbgrader": {
          "cell_type": "markdown",
          "checksum": "c163230004110b517584ac8434ab4f2a",
          "grade": false,
          "grade_id": "cell-e344ecace17a1cef",
          "locked": true,
          "schema_version": 3,
          "solution": false,
          "task": false
        },
        "id": "PTws6oiBXyTm"
      },
      "source": [
        "3. Find the best threshold using gradient descent - use jax for the dervative!\n",
        "\n",
        "Implement a function loss_best_threshold_gd\n",
        "\n",
        "<pre>\n",
        "return value - the best threshold according to the loss function\n",
        "</pre>"
      ]
    },
    {
      "cell_type": "code",
      "metadata": {
        "deletable": false,
        "nbgrader": {
          "cell_type": "code",
          "checksum": "73887ee8fb7806c138e378d461a64629",
          "grade": false,
          "grade_id": "cell-252b27d3b325b9e9",
          "locked": false,
          "schema_version": 3,
          "solution": true,
          "task": false
        },
        "id": "cdO0IHP3XyTm",
        "colab": {
          "base_uri": "https://localhost:8080/"
        },
        "outputId": "9d8a6913-ae5e-42ad-d042-02cb6086c927"
      },
      "source": [
        "def loss_best_threshold_gd(f, x0=0., step=0.1, decay=0.995, niter=30):\n",
        "  df = jax.grad(f)\n",
        "  x = x0\n",
        "\n",
        "  for i in range(niter):\n",
        "    x -= df(x)*step\n",
        "    step *= decay\n",
        "\n",
        "  return x\n",
        "\n",
        "#test\n",
        "loss_best_threshold_gd(rat_classification_loss)"
      ],
      "execution_count": 34,
      "outputs": [
        {
          "output_type": "execute_result",
          "data": {
            "text/plain": [
              "Array(0.51433843, dtype=float32, weak_type=True)"
            ]
          },
          "metadata": {},
          "execution_count": 34
        }
      ]
    },
    {
      "cell_type": "code",
      "metadata": {
        "deletable": false,
        "editable": false,
        "nbgrader": {
          "cell_type": "code",
          "checksum": "c597730834adc49a5d793a86872c7122",
          "grade": true,
          "grade_id": "cell-7e98f7a26296840a",
          "locked": true,
          "points": 2,
          "schema_version": 3,
          "solution": false,
          "task": false
        },
        "id": "L0QdyYvkXyTn",
        "colab": {
          "base_uri": "https://localhost:8080/"
        },
        "outputId": "484ed5ac-264c-4a66-f725-9f4f5fd3dab7"
      },
      "source": [
        "# --------------------------- RUN THIS TEST CODE CELL -------------------------------------\n",
        "# Q2.3 --- Test your implementation:\n",
        "# ---------------------------\n",
        "print(\"Testing the implementation of the 'loss' function..\\n \")\n",
        "best_threshold = loss_best_threshold_gd(rat_classification_loss)\n",
        "assert best_threshold > 0\n",
        "assert rat_classification_loss(best_threshold) < rat_classification_loss(best_threshold+0.5)\n",
        "print (\"good job!\\nSanity tests passed. There are additional hidden tests...\")\n",
        "print(f\"Best threshold: best_threshold\")\n"
      ],
      "execution_count": 36,
      "outputs": [
        {
          "output_type": "stream",
          "name": "stdout",
          "text": [
            "Testing the implementation of the 'loss' function..\n",
            " \n",
            "good job!\n",
            "Sanity tests passed. There are additional hidden tests...\n",
            "Best threshold: best_threshold\n"
          ]
        }
      ]
    },
    {
      "cell_type": "markdown",
      "metadata": {
        "deletable": false,
        "editable": false,
        "nbgrader": {
          "cell_type": "markdown",
          "checksum": "bd00dbd95d003dfbe2f038641e3ce6df",
          "grade": false,
          "grade_id": "cell-79ab1e6f1ab4b201",
          "locked": true,
          "schema_version": 3,
          "solution": false,
          "task": false
        },
        "id": "4S4jFsxOXyTn"
      },
      "source": [
        "4. Find the best threshold using Newton's method.\n",
        "\n",
        "Implement a function loss_best_threshold_newton\n",
        "\n",
        "<pre>\n",
        "Input parameters:\n",
        "f - rat_classification_loss_deriv\n",
        "x0 = 0 - starting point\n",
        "niter = 10 - number of iterations\n",
        "return value - the best threshold according to the loss function\n",
        "</pre>"
      ]
    },
    {
      "cell_type": "code",
      "metadata": {
        "deletable": false,
        "nbgrader": {
          "cell_type": "code",
          "checksum": "b9f23f0547c078b78e338ee9c1e5a18a",
          "grade": false,
          "grade_id": "cell-94bc44c21f3a1b2f",
          "locked": false,
          "schema_version": 3,
          "solution": true,
          "task": false
        },
        "id": "ZHmsUL9vXyTo",
        "colab": {
          "base_uri": "https://localhost:8080/"
        },
        "outputId": "dc3c0c01-420c-4679-bb15-edea313a1258"
      },
      "source": [
        "def loss_best_threshold_newton(f, x0=0., niter=10):\n",
        "  df = jax.grad(f)\n",
        "  df2 = jax.grad(df)\n",
        "  x = x0\n",
        "  for i in range(niter):\n",
        "    x = x - df(x)/df2(x)\n",
        "\n",
        "  return x\n",
        "\n",
        "\n",
        "loss_best_threshold_newton(rat_classification_loss)"
      ],
      "execution_count": 38,
      "outputs": [
        {
          "output_type": "execute_result",
          "data": {
            "text/plain": [
              "Array(0.51433843, dtype=float32, weak_type=True)"
            ]
          },
          "metadata": {},
          "execution_count": 38
        }
      ]
    },
    {
      "cell_type": "code",
      "metadata": {
        "deletable": false,
        "editable": false,
        "nbgrader": {
          "cell_type": "code",
          "checksum": "73d2453233567d76e959b54952ada334",
          "grade": true,
          "grade_id": "cell-e03d19aad1688287",
          "locked": true,
          "points": 2,
          "schema_version": 3,
          "solution": false,
          "task": false
        },
        "id": "TsMe8sFmXyTo",
        "colab": {
          "base_uri": "https://localhost:8080/"
        },
        "outputId": "09002fba-e753-4713-f816-ffad20171dc3"
      },
      "source": [
        "# --------------------------- RUN THIS TEST CODE CELL -------------------------------------\n",
        "# Q2.4 --- Test your implementation:\n",
        "# ---------------------------\n",
        "print(\"Testing the implementation of the 'loss' function..\\n \")\n",
        "best_threshold = loss_best_threshold_newton(rat_classification_loss)\n",
        "assert best_threshold > 0\n",
        "assert rat_classification_loss(best_threshold) < rat_classification_loss(best_threshold+0.5)\n",
        "print (\"good job!\\nSanity tests passed. There are additional hidden tests...\")\n"
      ],
      "execution_count": 40,
      "outputs": [
        {
          "output_type": "stream",
          "name": "stdout",
          "text": [
            "Testing the implementation of the 'loss' function..\n",
            " \n",
            "good job!\n",
            "Sanity tests passed. There are additional hidden tests...\n"
          ]
        }
      ]
    },
    {
      "cell_type": "markdown",
      "metadata": {
        "deletable": false,
        "editable": false,
        "nbgrader": {
          "cell_type": "markdown",
          "checksum": "a8a558fbb7427640df46a87857950f77",
          "grade": false,
          "grade_id": "cell-d908eaa6fd1bc3f7",
          "locked": true,
          "schema_version": 3,
          "solution": false,
          "task": false
        },
        "id": "QFlFAHa1XyTo"
      },
      "source": [
        "5. Using the best threshold found, how many sleep=1 cases were misclassified?\n",
        "\n",
        "Implement a function misclassified_sleeps\n",
        "\n",
        "<pre>\n",
        "Input parameters:\n",
        "data - the data in the format of list of tuples\n",
        "use_newton - True if using Newton, False if using GD\n",
        "return value - how many sleep=1 cases were missclassified\n",
        "</pre>\n"
      ]
    },
    {
      "cell_type": "code",
      "metadata": {
        "deletable": false,
        "nbgrader": {
          "cell_type": "code",
          "checksum": "fa9602ebce442326ee3c07e3346eb339",
          "grade": false,
          "grade_id": "cell-cfdeadebe7272bf1",
          "locked": false,
          "schema_version": 3,
          "solution": true,
          "task": false
        },
        "id": "dBV41VBGXyTo",
        "colab": {
          "base_uri": "https://localhost:8080/"
        },
        "outputId": "e2cf7af1-1253-40d7-9f97-9bbb2c429b4e"
      },
      "source": [
        "def misclassified_diabetes(use_newton=False, data=rats):\n",
        "    if(use_newton):\n",
        "      x=loss_best_threshold_newton(rat_classification_loss)\n",
        "\n",
        "    else:\n",
        "      x=loss_best_threshold_gd(rat_classification_loss)\n",
        "\n",
        "    sum=0\n",
        "\n",
        "    for rat in data:\n",
        "      diabetes=rat[1]\n",
        "\n",
        "      if(rat[0]>=x):\n",
        "        realdiabetes=1\n",
        "      else:\n",
        "        realdiabetes=0\n",
        "\n",
        "      if(diabetes==1 and diabetes!=realdiabetes):\n",
        "        sum=sum+1\n",
        "\n",
        "    return sum\n",
        "misclassified_diabetes(False)"
      ],
      "execution_count": 44,
      "outputs": [
        {
          "output_type": "execute_result",
          "data": {
            "text/plain": [
              "4"
            ]
          },
          "metadata": {},
          "execution_count": 44
        }
      ]
    },
    {
      "cell_type": "code",
      "metadata": {
        "deletable": false,
        "editable": false,
        "nbgrader": {
          "cell_type": "code",
          "checksum": "f56662b27ccd2a2a332e790e876136ef",
          "grade": true,
          "grade_id": "cell-a6bf63dd69b400cc",
          "locked": true,
          "points": 2,
          "schema_version": 3,
          "solution": false,
          "task": false
        },
        "id": "Qb2nJJdbXyTp",
        "colab": {
          "base_uri": "https://localhost:8080/"
        },
        "outputId": "f5f1b7f5-6a5d-4f4c-ace1-0e9aaa8bf01b"
      },
      "source": [
        "# --------------------------- RUN THIS TEST CODE CELL -------------------------------------\n",
        "# Q2.5 --- Test your implementation:\n",
        "# ---------------------------\n",
        "print(\"Testing the implementation of the 'loss' function..\\n \")\n",
        "missclassified_sleep_count_gd = misclassified_diabetes(False)\n",
        "missclassified_sleep_count_newton = misclassified_diabetes(True)\n",
        "assert missclassified_sleep_count_gd >= 0\n",
        "assert missclassified_sleep_count_newton >= 0\n",
        "print (\"good job!\\nSanity tests passed. There are additional hidden tests...\")\n",
        "print(f\"Number of missclasifications: {missclassified_sleep_count_gd}\")\n"
      ],
      "execution_count": 43,
      "outputs": [
        {
          "output_type": "stream",
          "name": "stdout",
          "text": [
            "Testing the implementation of the 'loss' function..\n",
            " \n",
            "good job!\n",
            "Sanity tests passed. There are additional hidden tests...\n",
            "Number of missclasifications: 4\n"
          ]
        }
      ]
    }
  ]
}