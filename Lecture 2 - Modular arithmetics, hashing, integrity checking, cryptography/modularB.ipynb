{
  "nbformat": 4,
  "nbformat_minor": 0,
  "metadata": {
    "kernelspec": {
      "name": "python3",
      "display_name": "Python 3"
    },
    "colab": {
      "provenance": []
    }
  },
  "cells": [
    {
      "cell_type": "code",
      "metadata": {
        "id": "1w9gc4bZxK2q"
      },
      "source": [
        "import matplotlib.pyplot as plt\n",
        "from pprint import pprint\n",
        "%matplotlib inline"
      ],
      "execution_count": null,
      "outputs": []
    },
    {
      "cell_type": "markdown",
      "metadata": {
        "id": "db2KdlOuxK3i"
      },
      "source": [
        "# Modular arithmetics\n",
        "\n",
        "Some applications of modular arithmetics"
      ]
    },
    {
      "cell_type": "markdown",
      "metadata": {
        "id": "kriiP91bxK3o"
      },
      "source": [
        "## Checksums\n",
        "\n",
        "A checksum is a small-sized datum derived from a block of digital data \n",
        "for the purpose of detecting errors that may have been introduced during\n",
        "its transmission or storage. \n",
        "\n",
        "A checksum must be of fixed size. We can use modulo arithmetics to bound the size of\n",
        "the result. The simplest way to compute the checksum is to sum the values of all \n",
        "digits, and then take the modulo. "
      ]
    },
    {
      "cell_type": "code",
      "metadata": {
        "id": "fKt7Pd8pxK3t"
      },
      "source": [
        "def cksum0(n):\n",
        "    sum = 0\n",
        "    while n != 0:\n",
        "        m = n % 10\n",
        "        sum += m\n",
        "        n = n // 10\n",
        "       # print(f\"m={m},sum={sum}\")\n",
        "    return sum % 10"
      ],
      "execution_count": null,
      "outputs": []
    },
    {
      "cell_type": "code",
      "metadata": {
        "id": "YrxxN5GpKx4Q"
      },
      "source": [
        "x = 92785453\n",
        "x // 10, x % 10\n"
      ],
      "execution_count": null,
      "outputs": []
    },
    {
      "cell_type": "markdown",
      "metadata": {
        "id": "l-Jp87xOxK5v"
      },
      "source": [
        "Let's see how even this function distributes the checksums. "
      ]
    },
    {
      "cell_type": "code",
      "metadata": {
        "id": "J4a3067kxK5y"
      },
      "source": [
        "cksums0 = [cksum0(n) for n in range(10000)]\n",
        "_ = plt.hist(cksums0, rwidth=0.9)"
      ],
      "execution_count": null,
      "outputs": []
    },
    {
      "cell_type": "markdown",
      "metadata": {
        "id": "4O5wXU6jxK6I"
      },
      "source": [
        "Looks uniform, but is it a good function? We want numbers with just a small error to get different checksums."
      ]
    },
    {
      "cell_type": "code",
      "metadata": {
        "id": "HHmoCLAaxK6N"
      },
      "source": [
        "cksum0(2888919), cksum0(2889919), cksum0(28888819), cksum0(7888919)"
      ],
      "execution_count": null,
      "outputs": []
    },
    {
      "cell_type": "markdown",
      "metadata": {
        "id": "g5zaKeTBxK6f"
      },
      "source": [
        "So far, so good. Our algorithm detects simple typos. But does it always work well? Here are two examples where it does not work well. In the first two digits are swapped, in the second the error is in two digits."
      ]
    },
    {
      "cell_type": "code",
      "metadata": {
        "id": "dYieh7xKxK6m"
      },
      "source": [
        "print(cksum0(2888919), \"|\", cksum0(2889819), cksum0(2878929))"
      ],
      "execution_count": null,
      "outputs": []
    },
    {
      "cell_type": "markdown",
      "metadata": {
        "id": "My1R2UCzrHGV"
      },
      "source": [
        "We can implement the [Luhn's algorithm](https://en.wikipedia.org/wiki/Luhn_algorithm) instead. Luhn's algorithm is the _de facto_ standard to compute the **check digit**."
      ]
    },
    {
      "cell_type": "code",
      "metadata": {
        "id": "18l7vMlAxK63"
      },
      "source": [
        "def digits(n):\n",
        "    if n == 0:\n",
        "        return [0]\n",
        "    \n",
        "    nums = []\n",
        "    while n != 0:\n",
        "        nums.append(n % 10)\n",
        "        n //= 10\n",
        "    nums.reverse()\n",
        "    return nums"
      ],
      "execution_count": null,
      "outputs": []
    },
    {
      "cell_type": "code",
      "metadata": {
        "id": "HIG6hmQ_Qu9x"
      },
      "source": [
        "digits(82750)"
      ],
      "execution_count": null,
      "outputs": []
    },
    {
      "cell_type": "code",
      "metadata": {
        "id": "ZHtI4LDp5BkW"
      },
      "source": [
        "def cksum(num):\n",
        "    \"\"\"Computes checksum using Luhn's algorithm\"\"\"\n",
        "    cksum = 0\n",
        "\n",
        "    digs = digits(num)\n",
        "    ofs = len(digs) % 2 == 0\n",
        "\n",
        "    # for i in range(len(digs)):\n",
        "    #     n = digs[i]\n",
        "    for i, n in enumerate(digs):\n",
        "        if (i + ofs) % 2 == 1:\n",
        "            cksum += n\n",
        "        else:\n",
        "            n_ = n * 2\n",
        "            # ------------\n",
        "            # if n_ > 9:\n",
        "            #   a = n_ // 10\n",
        "            #   b = n_ % 10\n",
        "            #   n_ = a + b\n",
        "            # if n_ > 9:\n",
        "            # -------------\n",
        "            #     n_ -= 9\n",
        "            # cksum += n_\n",
        "            cksum += n_ - 9 if n_ > 9 else n_\n",
        "    return (10 - cksum) % 10"
      ],
      "execution_count": null,
      "outputs": []
    },
    {
      "cell_type": "markdown",
      "metadata": {
        "id": "EnNkFDo-xK7J"
      },
      "source": [
        "This new checksum works much better, detecting all of the errors"
      ]
    },
    {
      "cell_type": "code",
      "metadata": {
        "id": "f0t2EYGDxK7M"
      },
      "source": [
        "print(cksum(2888919), \"|\", cksum(2889919), cksum(28888819), cksum(7888919), cksum(2889819), cksum(2878929))"
      ],
      "execution_count": null,
      "outputs": []
    },
    {
      "cell_type": "markdown",
      "metadata": {
        "id": "UA43Ebx6xK8a"
      },
      "source": [
        "## Hash tables\n",
        "\n",
        "A hash table (a [dictionary](https://docs.python.org/3/tutorial/datastructures.html#dictionaries)) is like an array. One uses an index to access an element, only the index does not have to be a small integer."
      ]
    },
    {
      "cell_type": "code",
      "metadata": {
        "id": "dbt3nFpFxK8d"
      },
      "source": [
        "phones = {'noy': '0553224098', 'ehud': '0541114139', 'nadav': '0587764127'}\n",
        "print(\"Noy's phone is\", phones['noy'])\n",
        "phones['eyal'] = '0505005050'\n",
        "print(\"Eyal's phone is\", phones['eyal'])"
      ],
      "execution_count": null,
      "outputs": []
    },
    {
      "cell_type": "code",
      "metadata": {
        "id": "eJa34Za5VOtu"
      },
      "source": [
        "phones"
      ],
      "execution_count": null,
      "outputs": []
    },
    {
      "cell_type": "markdown",
      "metadata": {
        "id": "en9mqoSXxK8q"
      },
      "source": [
        "Dictionaries are built into Python, but we can implement them by ourselves. "
      ]
    },
    {
      "cell_type": "code",
      "metadata": {
        "id": "PNtHYOiJGuCW"
      },
      "source": [
        "hash('noy'), hash('nadav')"
      ],
      "execution_count": null,
      "outputs": []
    },
    {
      "cell_type": "code",
      "metadata": {
        "id": "Wo1hcrG8xK8s"
      },
      "source": [
        "def maket(n):\n",
        "    # t = []\n",
        "    # for _ in range(n):\n",
        "    #     t.append([])\n",
        "    # return t\n",
        "    return [list() for _ in range(n)]\n",
        "\n",
        "def tset(table, key, value, h=hash):\n",
        "    i = h(key) % len(table)\n",
        "    entry = table[i]\n",
        "    for i, (k, v) in enumerate(entry):\n",
        "        if key==k:\n",
        "            entry[i] = (key, value)\n",
        "            return\n",
        "    entry.append((key, value))\n",
        "        \n",
        "def tget(table, key, h=hash):\n",
        "    i = h(key) % len(table)\n",
        "    entry = table[i]\n",
        "    for i, (k, v) in enumerate(entry):\n",
        "        if key==k:\n",
        "            return v\n",
        "    return None\n"
      ],
      "execution_count": null,
      "outputs": []
    },
    {
      "cell_type": "code",
      "metadata": {
        "id": "oJq_CQJ_xK-F"
      },
      "source": [
        "t = maket(5)\n",
        "\n",
        "tset(t, 'noy', '0541212312')\n",
        "tset(t, 'ehud', '0541114139')\n",
        "tset(t, 'nadav', '0587764127')\n",
        "print(\"Noy's phone is\", tget(t, 'noy'))\n",
        "tset(t, 'eyal', '0505005050')\n",
        "print(\"Eyal's phone is\", tget(t, 'eyal'))"
      ],
      "execution_count": null,
      "outputs": []
    },
    {
      "cell_type": "code",
      "metadata": {
        "id": "1kUxBeJVxK-r"
      },
      "source": [
        "pprint(t)"
      ],
      "execution_count": null,
      "outputs": []
    },
    {
      "cell_type": "markdown",
      "metadata": {
        "id": "zsfGRizjxK_C"
      },
      "source": [
        "## Bonus: hash function\n",
        "\n",
        "We used the built-in Python hash function, but can write our own. We want a function that maps different strings to different numbers. We can use a polynom for that purpose. "
      ]
    },
    {
      "cell_type": "code",
      "metadata": {
        "id": "Pg-qZLBjxK_D"
      },
      "source": [
        "def hashInt(n):\n",
        "    \"\"\"returns hash of an integer\n",
        "    \"\"\"\n",
        "    return n\n",
        "\n",
        "def hashStr(s):\n",
        "    \"\"\"returns hash of a string\n",
        "    \"\"\"\n",
        "    h = 0\n",
        "    for c in s:\n",
        "        h = 31*h + ord(c)\n",
        "    return h"
      ],
      "execution_count": null,
      "outputs": []
    },
    {
      "cell_type": "code",
      "metadata": {
        "id": "iZC_q40jxK_Y"
      },
      "source": [
        "t = maket(14)\n",
        "tset(t, 'noy', '0541212312', hashStr)\n",
        "tset(t, 'ehud', '0541114139', hashStr)\n",
        "tset(t, 'nadav', '0587764127', hashStr)\n",
        "print(\"Noy's phone is\", tget(t, 'noy', hashStr))\n",
        "tset(t, 'eyal', '0505005050', hashStr)\n",
        "print(\"Eyal's phone is\", tget(t, 'eyal', hashStr))"
      ],
      "execution_count": null,
      "outputs": []
    },
    {
      "cell_type": "code",
      "metadata": {
        "id": "us-W0IuBxK_i"
      },
      "source": [
        "pprint(t)"
      ],
      "execution_count": null,
      "outputs": []
    },
    {
      "cell_type": "code",
      "metadata": {
        "id": "D6rbF6iLxK_p"
      },
      "source": [
        "# One cannot mix different hash functions, generally.\n",
        "print(\"Noy's phone is\", tget(t, 'noy') or \"unknown\")"
      ],
      "execution_count": null,
      "outputs": []
    },
    {
      "cell_type": "code",
      "metadata": {
        "id": "nW8YslxjxePe"
      },
      "source": [],
      "execution_count": null,
      "outputs": []
    }
  ]
}