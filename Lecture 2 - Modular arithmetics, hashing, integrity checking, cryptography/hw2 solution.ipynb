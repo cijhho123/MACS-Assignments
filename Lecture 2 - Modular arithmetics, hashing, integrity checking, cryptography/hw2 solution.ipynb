{
  "cells": [
    {
      "cell_type": "markdown",
      "id": "100cf3fb",
      "metadata": {
        "id": "100cf3fb"
      },
      "source": [
        "Before you turn this problem in, make sure everything runs as expected. First, **restart the kernel** (in the menubar, select Kernel$\\rightarrow$Restart) and then **run all cells** (in the menubar, select Cell$\\rightarrow$Run All).\n",
        "\n",
        "Make sure you fill in any place that says `YOUR CODE HERE` or \"YOUR ANSWER HERE\", as well as your name and collaborators below:"
      ]
    },
    {
      "cell_type": "code",
      "execution_count": 281,
      "id": "e9387d87",
      "metadata": {
        "id": "e9387d87"
      },
      "outputs": [],
      "source": [
        "NAME = \"Ben Haim Karif\"\n",
        "COLLABORATORS = \"\" #the one and only!"
      ]
    },
    {
      "cell_type": "markdown",
      "id": "72b4002f",
      "metadata": {
        "id": "72b4002f"
      },
      "source": [
        "---"
      ]
    },
    {
      "cell_type": "markdown",
      "id": "a8eb11f0",
      "metadata": {
        "id": "a8eb11f0"
      },
      "source": [
        "# Assignment 2: Applications of modular arithmetics"
      ]
    },
    {
      "cell_type": "code",
      "execution_count": 282,
      "id": "dabc94d3",
      "metadata": {
        "deletable": false,
        "editable": false,
        "id": "dabc94d3",
        "nbgrader": {
          "cell_type": "code",
          "checksum": "f30147f745df9fd67c728eacb0ab89b0",
          "grade": false,
          "grade_id": "cell-2c47810b587eba40",
          "locked": true,
          "schema_version": 3,
          "solution": false,
          "task": false
        }
      },
      "outputs": [],
      "source": [
        "import math"
      ]
    },
    {
      "cell_type": "markdown",
      "id": "23e788f2",
      "metadata": {
        "deletable": false,
        "editable": false,
        "nbgrader": {
          "cell_type": "markdown",
          "checksum": "497d1b15be506d142f51ee61509b66f8",
          "grade": false,
          "grade_id": "cell-8e70e66cf8309900",
          "locked": true,
          "schema_version": 3,
          "solution": false,
          "task": false
        },
        "id": "23e788f2"
      },
      "source": [
        "## Question 1: Cryptography\n",
        "\n",
        "You will implement and analyze two simple cryptographic algorithms — Caesar's and Scytale ciphers.\n",
        "\n",
        "1. Implement the encoder for Ceasar's cipher: https://en.wikipedia.org/wiki/Caesar_cipher (encode only the letters, leave other characters as-is)."
      ]
    },
    {
      "cell_type": "markdown",
      "id": "de89796d",
      "metadata": {
        "deletable": false,
        "editable": false,
        "nbgrader": {
          "cell_type": "markdown",
          "checksum": "133528ef6fd0ecf3aa9c4c0f304f90d2",
          "grade": false,
          "grade_id": "cell-aa8d321622afeb5c",
          "locked": true,
          "schema_version": 3,
          "solution": false,
          "task": false
        },
        "id": "de89796d"
      },
      "source": [
        "Q1.1: Implement function `ceasar_cipher`, which will transform regular text into encoded text\n",
        "<pre> \n",
        "------------\n",
        "Input parameters:\n",
        "- plaintext - string, the text that should be encrypted\n",
        "- N - int, size of shift\n",
        "------------\n",
        "return value:\n",
        "string, the text after encoding\n",
        "</pre> "
      ]
    },
    {
      "cell_type": "code",
      "execution_count": 283,
      "id": "3aac3aed",
      "metadata": {
        "deletable": false,
        "nbgrader": {
          "cell_type": "code",
          "checksum": "ef22d0eb334ce10cb53d28efd457e741",
          "grade": false,
          "grade_id": "cell-fcc26ea16c7fcc6e",
          "locked": false,
          "schema_version": 3,
          "solution": true,
          "task": false
        },
        "id": "3aac3aed"
      },
      "outputs": [],
      "source": [
        "ABC = \"ABCDEFGHIJKLMNOPQRSTUVWXYZ\"\n",
        "\n",
        "def ceasar_cipher(plaintext,N=1):\n",
        "  upperCase = plaintext.upper()\n",
        "  output = \"\"\n",
        "\n",
        "  #make sure we have a valid shift\n",
        "  while N < 0:\n",
        "    N += len(ABC)\n",
        "  N = N % len(ABC)\n",
        "  \n",
        "  #encode the string\n",
        "  for ch in upperCase:\n",
        "    if(ch.isalpha()):\n",
        "      output += ABC[(ABC.index(ch) + N) % len(ABC)]\n",
        "    else:\n",
        "      output += ch\n",
        "  return output"
      ]
    },
    {
      "cell_type": "code",
      "source": [
        "ceasar_cipher(\"abcdef\")"
      ],
      "metadata": {
        "colab": {
          "base_uri": "https://localhost:8080/",
          "height": 36
        },
        "id": "zdT7vx3ghBDQ",
        "outputId": "e29c90a3-7028-48da-86db-743c4cfec208"
      },
      "id": "zdT7vx3ghBDQ",
      "execution_count": 284,
      "outputs": [
        {
          "output_type": "execute_result",
          "data": {
            "text/plain": [
              "'BCDEFG'"
            ],
            "application/vnd.google.colaboratory.intrinsic+json": {
              "type": "string"
            }
          },
          "metadata": {},
          "execution_count": 284
        }
      ]
    },
    {
      "cell_type": "code",
      "execution_count": 285,
      "id": "40c534ce",
      "metadata": {
        "deletable": false,
        "editable": false,
        "nbgrader": {
          "cell_type": "code",
          "checksum": "c5046e5105d34828cc13a09ce4b01d9a",
          "grade": true,
          "grade_id": "cell-910c1caba85f9efe",
          "locked": true,
          "points": 10,
          "schema_version": 3,
          "solution": false,
          "task": false
        },
        "colab": {
          "base_uri": "https://localhost:8080/"
        },
        "id": "40c534ce",
        "outputId": "ab788c32-f6a7-4144-d78f-dd83145985ce"
      },
      "outputs": [
        {
          "output_type": "stream",
          "name": "stdout",
          "text": [
            "Testing the implementation of the 'ceasarCipher' function..\n",
            " \n",
            "good job!\n",
            "Tests passed. There may be hidden tests too\n"
          ]
        }
      ],
      "source": [
        "# --------------------------- RUN THIS TEST CODE CELL -------------------------------------\n",
        "# Q1.1 --- Test your implementation:\n",
        "# ---------------------------\n",
        "print (\"Testing the implementation of the 'ceasarCipher' function..\\n \")\n",
        "assert type(ceasar_cipher(\"meep meep\",1))==str,'output type is incorrect, should be string'\n",
        "print (\"good job!\\nTests passed. There may be hidden tests too\")\n"
      ]
    },
    {
      "cell_type": "markdown",
      "id": "75c9bea5",
      "metadata": {
        "deletable": false,
        "editable": false,
        "nbgrader": {
          "cell_type": "markdown",
          "checksum": "7a131319fb9eecb2bfd1f183265a82c2",
          "grade": false,
          "grade_id": "cell-2f70f1b68a8a3397",
          "locked": true,
          "schema_version": 3,
          "solution": false,
          "task": false
        },
        "id": "75c9bea5"
      },
      "source": [
        "2. Implement a decoder function that can reverse the cypher you've created, and demonstrate it, by encoding and then decoding the implementation (the source code) of the Caesar cipher using Caesar cipher:\n",
        "  * Encode the Python code \n",
        "  * Decode the result of encoding\n",
        "  * Compare the original and the recovered code  - you can add a box where you print the results — they should be the same."
      ]
    },
    {
      "cell_type": "markdown",
      "id": "51340c50",
      "metadata": {
        "deletable": false,
        "editable": false,
        "nbgrader": {
          "cell_type": "markdown",
          "checksum": "98b90cf6882853efd4352a6ab1da9475",
          "grade": false,
          "grade_id": "cell-7c4c505ac0fa2e26",
          "locked": true,
          "schema_version": 3,
          "solution": false,
          "task": false
        },
        "id": "51340c50"
      },
      "source": [
        "Q1.2A: Implement function `ceasar_cipher_decode`, which will restore the cyphertext created by `ceasar_cipher` to plaintext\n",
        "<pre> \n",
        "------------\n",
        "Input parameters:\n",
        "- cyphertext - string, the encoded text that needs to be decyphered\n",
        "- N - int, size of shift that was used in the encoding\n",
        "------------\n",
        "return value:\n",
        "string, the text after decoding\n",
        "</pre> "
      ]
    },
    {
      "cell_type": "code",
      "execution_count": 286,
      "id": "d4f8c38f",
      "metadata": {
        "deletable": false,
        "nbgrader": {
          "cell_type": "code",
          "checksum": "2fd70691da6f553c1d235ea523c3acd0",
          "grade": false,
          "grade_id": "cell-fd561d08a5195124",
          "locked": false,
          "schema_version": 3,
          "solution": true,
          "task": false
        },
        "id": "d4f8c38f"
      },
      "outputs": [],
      "source": [
        "def ceasar_cipher_decode(cypherText,N=1):\n",
        "  return ceasar_cipher(cypherText, len(ABC) - N)\n"
      ]
    },
    {
      "cell_type": "code",
      "execution_count": 287,
      "id": "0980d899",
      "metadata": {
        "deletable": false,
        "editable": false,
        "nbgrader": {
          "cell_type": "code",
          "checksum": "4c2e141a225b5c654fbf5e5b4e009426",
          "grade": true,
          "grade_id": "cell-a3e55a24e9359804",
          "locked": true,
          "points": 8,
          "schema_version": 3,
          "solution": false,
          "task": false
        },
        "colab": {
          "base_uri": "https://localhost:8080/"
        },
        "id": "0980d899",
        "outputId": "d7e30b74-bd47-457c-ce76-4cfbd098821b"
      },
      "outputs": [
        {
          "output_type": "stream",
          "name": "stdout",
          "text": [
            "Testing the implementation of the 'ceasarCipherDecode' function..\n",
            " \n",
            "good job!\n",
            "Tests passed. There may be hidden tests too\n"
          ]
        }
      ],
      "source": [
        "# --------------------------- RUN THIS TEST CODE CELL -------------------------------------\n",
        "# Q1.2A --- Test your implementation:\n",
        "# ---------------------------\n",
        "print (\"Testing the implementation of the 'ceasarCipherDecode' function..\\n \")\n",
        "assert type(ceasar_cipher_decode(\"ABC\",3))==str,'output type is incorrect, should be string'\n",
        "print (\"good job!\\nTests passed. There may be hidden tests too\")"
      ]
    },
    {
      "cell_type": "markdown",
      "id": "9c6f552e",
      "metadata": {
        "deletable": false,
        "editable": false,
        "nbgrader": {
          "cell_type": "markdown",
          "checksum": "5bb8fed6ba6af7af0cfd0cb03be18b86",
          "grade": false,
          "grade_id": "cell-ee77a41c23c60c7a",
          "locked": true,
          "schema_version": 3,
          "solution": false,
          "task": false
        },
        "id": "9c6f552e"
      },
      "source": [
        "Q1.2B: Implement function `return_encrypted_ceasar_code`, which will return a string that equals the code of `ceasar_cipher` after encryption, with N=2 . Then, implement a function `return_decoded_ceasar_code` which will call `return_encrypted_ceasar_code` and return the decrypted outcome. \n",
        "<pre> \n",
        "return_encrypted_ceasar_code()\n",
        "------------\n",
        "Input parameters:\n",
        "none\n",
        "------------\n",
        "return value:\n",
        "string, the encrypted source code\n",
        "</pre> \n",
        "\n",
        "<pre> \n",
        "return_decoded_ceasar_code()\n",
        "------------\n",
        "Input parameters:\n",
        "encrypted_code - the output of return_encrypted_ceasar_code()\n",
        "------------\n",
        "return value:\n",
        "string, the source code restored to plaintext\n",
        "</pre> "
      ]
    },
    {
      "cell_type": "code",
      "execution_count": 288,
      "id": "9dc30b02",
      "metadata": {
        "deletable": false,
        "nbgrader": {
          "cell_type": "code",
          "checksum": "46e622133a13c9a6c934ebd2d9f39962",
          "grade": false,
          "grade_id": "cell-0c2fa8c5fcfb1b21",
          "locked": false,
          "schema_version": 3,
          "solution": true,
          "task": false
        },
        "id": "9dc30b02"
      },
      "outputs": [],
      "source": [
        "import inspect\n",
        "\n",
        "def return_encrypted_ceasar_code():\n",
        "    func = inspect.getsource(ceasar_cipher)\n",
        "    return ceasar_cipher(func)\n",
        "    \n",
        "def return_decoded_ceasar_code(encrypted_code=return_encrypted_ceasar_code()):\n",
        "    func = inspect.getsource(ceasar_cipher)\n",
        "    return ceasar_cipher(func)"
      ]
    },
    {
      "cell_type": "code",
      "execution_count": 289,
      "id": "4ca93a1b",
      "metadata": {
        "deletable": false,
        "editable": false,
        "nbgrader": {
          "cell_type": "code",
          "checksum": "40d1ffdc628d78480aff7fac0b1f3a8d",
          "grade": true,
          "grade_id": "cell-290384e75f4cb72f",
          "locked": true,
          "points": 2,
          "schema_version": 3,
          "solution": false,
          "task": false
        },
        "id": "4ca93a1b",
        "colab": {
          "base_uri": "https://localhost:8080/"
        },
        "outputId": "9589d0d3-9f34-46a1-fa5f-262e6fa3b5a1"
      },
      "outputs": [
        {
          "output_type": "stream",
          "name": "stdout",
          "text": [
            "Testing the implementation of the 'ceasarCipherDecode' function..\n",
            " \n",
            "good job!\n",
            "Tests passed. There may be hidden tests too\n"
          ]
        }
      ],
      "source": [
        "# --------------------------- RUN THIS TEST CODE CELL -------------------------------------\n",
        "# Q1.2B --- Test your implementation:\n",
        "# ---------------------------\n",
        "print (\"Testing the implementation of the 'ceasarCipherDecode' function..\\n \")\n",
        "assert type(return_encrypted_ceasar_code())==str,'output type is incorrect, should be string'\n",
        "assert type(return_decoded_ceasar_code())==str,'output type is incorrect, should be string'\n",
        "assert type(return_decoded_ceasar_code(\"some_arbitrary_string\"))==str,'output type is incorrect, should be string'\n",
        "print (\"good job!\\nTests passed. There may be hidden tests too\")"
      ]
    },
    {
      "cell_type": "markdown",
      "id": "b0f69912",
      "metadata": {
        "deletable": false,
        "editable": false,
        "nbgrader": {
          "cell_type": "markdown",
          "checksum": "52de22e4a87399f03d64872aa1f20cce",
          "grade": false,
          "grade_id": "cell-becf682f5c7ac425",
          "locked": true,
          "schema_version": 3,
          "solution": false,
          "task": false
        },
        "id": "b0f69912"
      },
      "source": [
        "\n",
        "3. Find a real English word consisting of at least 3 letters which, when encoded using Caesar's cipher, is transformed to another real English word. "
      ]
    },
    {
      "cell_type": "markdown",
      "id": "3e10e0cb",
      "metadata": {
        "deletable": false,
        "editable": false,
        "nbgrader": {
          "cell_type": "markdown",
          "checksum": "ba0cce017696450c60cc5e921fbe6bc5",
          "grade": false,
          "grade_id": "cell-0251dfd9eba3513d",
          "locked": true,
          "schema_version": 3,
          "solution": false,
          "task": false
        },
        "id": "3e10e0cb"
      },
      "source": [
        "Q1.3: Implement function `return_word_and_shift`, which returns a word in English, 3 letters or more in length, and an integer N so that if we apply Ceasar cypher to the word with shift N, we get another word in English.\n",
        "<pre> \n",
        "------------\n",
        "Input parameters:\n",
        "none\n",
        "------------\n",
        "return value:\n",
        "(word,shift)\n",
        "- word - string, a word in English\n",
        "- shift - integer, the size of N needed to encode it so that the cyphertext is also a word in English\n",
        "</pre> "
      ]
    },
    {
      "cell_type": "code",
      "execution_count": 290,
      "id": "88c0d2ff",
      "metadata": {
        "deletable": false,
        "nbgrader": {
          "cell_type": "code",
          "checksum": "c029548aa69d859806ba79f20d566a98",
          "grade": false,
          "grade_id": "cell-61c68e5bc86ea006",
          "locked": false,
          "schema_version": 3,
          "solution": true,
          "task": false
        },
        "id": "88c0d2ff"
      },
      "outputs": [],
      "source": [
        "my_dict = [\"PYIC\", \"DOG\", \"RAKE\", \"MOM\", \"DAD\", \"LOVE\", \"MINE\"] # in the forum Saar said we can create our own little dictionary, sorry for the choise of too fancy of words\n",
        "\n",
        "def return_word_and_shift():\n",
        "  for word in my_dict:\n",
        "    for shift in range(1,26):\n",
        "      encrypted = ceasar_cipher(word, shift)\n",
        "      if encrypted in my_dict:\n",
        "        return (word,shift)"
      ]
    },
    {
      "cell_type": "code",
      "execution_count": 291,
      "id": "0b357088",
      "metadata": {
        "deletable": false,
        "editable": false,
        "nbgrader": {
          "cell_type": "code",
          "checksum": "54eaad698f8db32561b5c537118b9efb",
          "grade": true,
          "grade_id": "cell-fcd88242abcbb20b",
          "locked": true,
          "points": 10,
          "schema_version": 3,
          "solution": false,
          "task": false
        },
        "id": "0b357088",
        "colab": {
          "base_uri": "https://localhost:8080/"
        },
        "outputId": "c4013197-bd6b-4a91-9a3c-8acd37f9253f"
      },
      "outputs": [
        {
          "output_type": "stream",
          "name": "stdout",
          "text": [
            "Testing the implementation of the 'hash_int' function..\n",
            " \n",
            "good job!\n",
            "Tests passed. There may be hidden tests too\n"
          ]
        }
      ],
      "source": [
        "\n",
        "# --------------------------- RUN THIS TEST CODE CELL -------------------------------------\n",
        "# Q1.3 --- Test your implementation:\n",
        "# ---------------------------\n",
        "print (\"Testing the implementation of the 'hash_int' function..\\n \")\n",
        "found_word=return_word_and_shift()\n",
        "assert len(found_word)==2, 'function should return tuple with two values'\n",
        "assert type(found_word[0]) is str, 'the first part of the output should be of type string'\n",
        "assert type(found_word[1]) is int, 'the secondpart of the output should be of type int'\n",
        "assert len(found_word[0])>=3, 'the word should be at least 3 letters long'\n",
        "print (\"good job!\\nTests passed. There may be hidden tests too\")\n",
        "\n"
      ]
    },
    {
      "cell_type": "markdown",
      "id": "f7b2b0b9",
      "metadata": {
        "deletable": false,
        "editable": false,
        "nbgrader": {
          "cell_type": "markdown",
          "checksum": "b18bda5f51586077c35420e77324e4aa",
          "grade": false,
          "grade_id": "cell-b9dc1b9fb6e80d1b",
          "locked": true,
          "schema_version": 3,
          "solution": false,
          "task": false
        },
        "id": "f7b2b0b9"
      },
      "source": [
        "4. Implement the encoder for the Vigenère cipher: https://en.wikipedia.org/wiki/Vigen%C3%A8re_cipher\n",
        "(encode only the letters, leave other characters as-is)."
      ]
    },
    {
      "cell_type": "markdown",
      "id": "ffccc898",
      "metadata": {
        "deletable": false,
        "editable": false,
        "nbgrader": {
          "cell_type": "markdown",
          "checksum": "bae364b23585dc26caf3896fc092bda5",
          "grade": false,
          "grade_id": "cell-b6dcf7eee82e4fb1",
          "locked": true,
          "schema_version": 3,
          "solution": false,
          "task": false
        },
        "id": "ffccc898"
      },
      "source": [
        "Q1.4: Implement function `vigenere_encode`, which will encrypt the input text according to the vigenère code with the provided key.\n",
        "<pre> \n",
        "------------\n",
        "Input parameters:\n",
        "- plaintext - string, the text that needs to be encoded\n",
        "- key - str\n",
        "------------\n",
        "return value:\n",
        "string, the text after encoding\n",
        "</pre> "
      ]
    },
    {
      "cell_type": "code",
      "execution_count": 292,
      "id": "c1ea40b3",
      "metadata": {
        "deletable": false,
        "nbgrader": {
          "cell_type": "code",
          "checksum": "35f8d9cec2987647a27b32d2ad69aa96",
          "grade": false,
          "grade_id": "cell-a74f19da20d8c32c",
          "locked": false,
          "schema_version": 3,
          "solution": true,
          "task": false
        },
        "id": "c1ea40b3"
      },
      "outputs": [],
      "source": [
        "def vigenere_encode(plaintext,key):\n",
        "  plaintext = plaintext.upper()\n",
        "  key = key.upper()\n",
        "  output = \"\"\n",
        "  shift = 0\n",
        "\n",
        "  for ch in plaintext :\n",
        "    if(ch.isalpha()):\n",
        "      output += ABC[(ABC.index(ch) + ABC.index(key[shift]) + len(ABC)) % len(ABC)]\n",
        "      shift = (shift + 1) % len(key)\n",
        "    else:\n",
        "      output += ch\n",
        "  return output"
      ]
    },
    {
      "cell_type": "code",
      "source": [
        "pt = \"CHAINSAWMAN RULES\"\n",
        "key = \"DOG\"\n",
        "\n",
        "print(vigenere_encode(pt, key))"
      ],
      "metadata": {
        "colab": {
          "base_uri": "https://localhost:8080/"
        },
        "id": "rcWqYVz15aaT",
        "outputId": "e3710468-94b5-46f0-e38b-3f2ecdb79488"
      },
      "id": "rcWqYVz15aaT",
      "execution_count": 293,
      "outputs": [
        {
          "output_type": "stream",
          "name": "stdout",
          "text": [
            "FVGLBYDKSDB XXZKV\n"
          ]
        }
      ]
    },
    {
      "cell_type": "code",
      "execution_count": 294,
      "id": "19339e67",
      "metadata": {
        "deletable": false,
        "editable": false,
        "nbgrader": {
          "cell_type": "code",
          "checksum": "d719a822159fbfabaf5ab620d7e9935f",
          "grade": true,
          "grade_id": "cell-fede5aa2fb49e35f",
          "locked": true,
          "points": 10,
          "schema_version": 3,
          "solution": false,
          "task": false
        },
        "id": "19339e67",
        "colab": {
          "base_uri": "https://localhost:8080/"
        },
        "outputId": "4588d631-60c0-40df-ed64-7da4b38ec98d"
      },
      "outputs": [
        {
          "output_type": "stream",
          "name": "stdout",
          "text": [
            "Testing the implementation of the 'vigenere_encode' function..\n",
            " \n",
            "good job!\n",
            "Tests passed. There may be hidden tests too\n"
          ]
        }
      ],
      "source": [
        "# --------------------------- RUN THIS TEST CODE CELL -------------------------------------\n",
        "# Q1.4 --- Test your implementation:\n",
        "# ---------------------------\n",
        "print (\"Testing the implementation of the 'vigenere_encode' function..\\n \")\n",
        "assert type(vigenere_encode(\"ABCabcABC\",\"vig\"))==str,'output type is incorrect, should be string'\n",
        "print (\"good job!\\nTests passed. There may be hidden tests too\")\n"
      ]
    },
    {
      "cell_type": "markdown",
      "id": "302d7951",
      "metadata": {
        "deletable": false,
        "editable": false,
        "id": "302d7951",
        "nbgrader": {
          "cell_type": "markdown",
          "checksum": "6ae0511ee83067016781b7b261e1a6f4",
          "grade": false,
          "grade_id": "cell-ee0be9b1be675d3f",
          "locked": true,
          "schema_version": 3,
          "solution": false,
          "task": false
        }
      },
      "source": [
        "\n",
        "5. Implement a decoder, and demonstrate by encoding and then decoding the implementation of the Vigenère cipher, as before.\n",
        "\n",
        "<b>Please note:</b> in the case where the encoded text length isn't a multiple of the key, the decoder should still be able to reverse the encoding correctly! Make sure you've handled this case."
      ]
    },
    {
      "cell_type": "markdown",
      "id": "c3d2123c",
      "metadata": {
        "deletable": false,
        "editable": false,
        "nbgrader": {
          "cell_type": "markdown",
          "checksum": "6d3cb18189720e66dfcd834dc7500a7f",
          "grade": false,
          "grade_id": "cell-0b516b713adc25e9",
          "locked": true,
          "schema_version": 3,
          "solution": false,
          "task": false
        },
        "id": "c3d2123c"
      },
      "source": [
        "Q1.5A: Implement function `vigenere_decode`, which will restore the cyphertext created by `vigenere_encode` to plaintext\n",
        "<pre> \n",
        "------------\n",
        "Input parameters:\n",
        "- ciphertext - string, the encoded text that needs to be decrypted\n",
        "- key - str\n",
        "------------\n",
        "return value:\n",
        "string, the text after decoding\n",
        "</pre> "
      ]
    },
    {
      "cell_type": "code",
      "execution_count": 295,
      "id": "d93858b3",
      "metadata": {
        "deletable": false,
        "nbgrader": {
          "cell_type": "code",
          "checksum": "1c1a946f5482321328ed9495599fb42a",
          "grade": false,
          "grade_id": "cell-1780c42a6fe02cf5",
          "locked": false,
          "schema_version": 3,
          "solution": true,
          "task": false
        },
        "id": "d93858b3"
      },
      "outputs": [],
      "source": [
        "def vigenere_decode(ciphertext,key):\n",
        "  ciphertext = ciphertext.upper()\n",
        "  key = key.upper()\n",
        "  output = \"\"\n",
        "  shift = 0\n",
        "\n",
        "  for ch in ciphertext :\n",
        "    if(ch.isalpha()):\n",
        "      output += ABC[(ABC.index(ch) - ABC.index(key[shift]) + len(ABC)) % len(ABC)]\n",
        "      shift = (shift + 1) % len(key)\n",
        "    else:\n",
        "      output += ch\n",
        "  return output "
      ]
    },
    {
      "cell_type": "code",
      "source": [
        "cp = \"KONO DIO DA\"\n",
        "key = \"JOJO\"\n",
        "\n",
        "print(vigenere_decode(cp, key))"
      ],
      "metadata": {
        "colab": {
          "base_uri": "https://localhost:8080/"
        },
        "id": "OSUrXK0z6oil",
        "outputId": "745ad2a1-9095-47b7-b042-f4c941b36786"
      },
      "id": "OSUrXK0z6oil",
      "execution_count": 296,
      "outputs": [
        {
          "output_type": "stream",
          "name": "stdout",
          "text": [
            "BAEA UUF PR\n"
          ]
        }
      ]
    },
    {
      "cell_type": "code",
      "execution_count": 297,
      "id": "b734af7d",
      "metadata": {
        "deletable": false,
        "editable": false,
        "nbgrader": {
          "cell_type": "code",
          "checksum": "362b7a36f036af0704e7b80688f2f282",
          "grade": true,
          "grade_id": "cell-7525afb85c29fb34",
          "locked": true,
          "points": 8,
          "schema_version": 3,
          "solution": false,
          "task": false
        },
        "id": "b734af7d",
        "colab": {
          "base_uri": "https://localhost:8080/"
        },
        "outputId": "ad2cd1f8-e8d6-4b71-fd86-907590942081"
      },
      "outputs": [
        {
          "output_type": "stream",
          "name": "stdout",
          "text": [
            "Testing the implementation of the 'vigenere_decode' function..\n",
            " \n",
            "good job!\n",
            "Tests passed. There may be hidden tests too\n"
          ]
        }
      ],
      "source": [
        "# --------------------------- RUN THIS TEST CODE CELL -------------------------------------\n",
        "# Q1.5A --- Test your implementation:\n",
        "# ---------------------------\n",
        "print (\"Testing the implementation of the 'vigenere_decode' function..\\n \")\n",
        "assert type(vigenere_decode(\"ABCDefgh\",\"vig\"))==str,'output type is incorrect, should be string'\n",
        "print (\"good job!\\nTests passed. There may be hidden tests too\")"
      ]
    },
    {
      "cell_type": "markdown",
      "id": "2328508e",
      "metadata": {
        "deletable": false,
        "editable": false,
        "nbgrader": {
          "cell_type": "markdown",
          "checksum": "84d7b76c50aa792ef2bf3f3a41341a4e",
          "grade": false,
          "grade_id": "cell-e6f745769929987d",
          "locked": true,
          "schema_version": 3,
          "solution": false,
          "task": false
        },
        "id": "2328508e"
      },
      "source": [
        "Q1.5B: Implement functions `return_encrypted_vigenere_code`, which will return a string that equals the code of `vigenere_encode` after encryption, with key=\"vig\". Then, implement a function `return_decoded_vigenere_code` which will call `return_encrypted_vigenere_code` and return the decrypted outcome. You may print the output to verify that it matches the original.\n",
        "<pre> \n",
        "return_encrypted_vigenere_code()\n",
        "------------\n",
        "Input parameters:\n",
        "none\n",
        "------------\n",
        "return value:\n",
        "string, the encrypted source code\n",
        "</pre> \n",
        "\n",
        "<pre> \n",
        "return_decoded_vigenere_code()\n",
        "------------\n",
        "Input parameters:\n",
        "encrypted_code - the output of return_encrypted_vigenere_code()\n",
        "------------\n",
        "return value:\n",
        "string, the source code restored to plaintext\n",
        "</pre> "
      ]
    },
    {
      "cell_type": "code",
      "execution_count": 298,
      "id": "1d719e58",
      "metadata": {
        "deletable": false,
        "nbgrader": {
          "cell_type": "code",
          "checksum": "1cef96a02702895e050895e94f07b8c4",
          "grade": false,
          "grade_id": "cell-0e04f341a44584a7",
          "locked": false,
          "schema_version": 3,
          "solution": true,
          "task": false
        },
        "id": "1d719e58"
      },
      "outputs": [],
      "source": [
        "import inspect\n",
        "\n",
        "key = \"vig\"\n",
        "\n",
        "def return_encrypted_vigenere_code():\n",
        "    func = inspect.getsource(vigenere_encode)\n",
        "    return vigenere_encode(func, key)\n",
        "    \n",
        "def return_decoded_vigenere_code(encrypted_code=return_encrypted_vigenere_code()):\n",
        "    func = inspect.getsource(vigenere_decode)\n",
        "    return vigenere_decode(func, key)"
      ]
    },
    {
      "cell_type": "code",
      "execution_count": 299,
      "id": "4c223366",
      "metadata": {
        "deletable": false,
        "editable": false,
        "nbgrader": {
          "cell_type": "code",
          "checksum": "5750992692397ee6c52d63c94078997a",
          "grade": true,
          "grade_id": "cell-bef06a38f2c90ce7",
          "locked": true,
          "points": 2,
          "schema_version": 3,
          "solution": false,
          "task": false
        },
        "id": "4c223366",
        "colab": {
          "base_uri": "https://localhost:8080/"
        },
        "outputId": "daae3af1-6095-4a58-cd06-61abba9b42b4"
      },
      "outputs": [
        {
          "output_type": "stream",
          "name": "stdout",
          "text": [
            "Testing the implementation of the 'return_encrypted/return_decoded' function..\n",
            " \n",
            "good job!\n",
            "Tests passed. There may be hidden tests too\n"
          ]
        }
      ],
      "source": [
        "# --------------------------- RUN THIS TEST CODE CELL -------------------------------------\n",
        "# Q1.5B --- Test your implementation:\n",
        "# ---------------------------\n",
        "print (\"Testing the implementation of the 'return_encrypted/return_decoded' function..\\n \")\n",
        "assert type(return_encrypted_vigenere_code())==str,'output type is incorrect, should be string'\n",
        "assert type(return_decoded_vigenere_code())==str,'output type is incorrect, should be string'\n",
        "assert type(return_decoded_vigenere_code(\"some_arbitrary_string\"))==str,'output type is incorrect, should be string'\n",
        "print (\"good job!\\nTests passed. There may be hidden tests too\")"
      ]
    },
    {
      "cell_type": "markdown",
      "id": "73ec654c",
      "metadata": {
        "deletable": false,
        "editable": false,
        "id": "73ec654c",
        "nbgrader": {
          "cell_type": "markdown",
          "checksum": "8d9db8cec715eddc3c4b796dd5522921",
          "grade": false,
          "grade_id": "cell-9086fa9408f25eac",
          "locked": true,
          "schema_version": 3,
          "solution": false,
          "task": false
        }
      },
      "source": [
        "# Question 2: Hash tables\n",
        "\n",
        "The code cell below contains emergency phone numbers of the university (taken from https://in.bgu.ac.il/logistics/Pages/dialing_rules.aspx). A single entity may have several phone numbers.\n",
        "\n",
        "You will implement a ‘truecaller’ facility: given a phone number, output the name of the entity. For example,\n",
        "```python\n",
        "caller = truecaller(t, 4100)\n",
        "print(f\"{caller} called!\")\n",
        "```\n",
        "```truecaller``` should return “Police”. \n",
        "\n",
        "if the number is not found, the function should return None\n",
        "\n",
        "Q1. Implement 'truecaller' using a Python dictionary\n"
      ]
    },
    {
      "cell_type": "code",
      "execution_count": 300,
      "id": "40a634ab",
      "metadata": {
        "deletable": false,
        "editable": false,
        "nbgrader": {
          "cell_type": "code",
          "checksum": "e29a08da5e6ef429987b3dc91e282a60",
          "grade": false,
          "grade_id": "cell-48597a6db620e77d",
          "locked": true,
          "schema_version": 3,
          "solution": false,
          "task": false
        },
        "id": "40a634ab"
      },
      "outputs": [],
      "source": [
        "  phonebook = [\n",
        "    [\"Security\",\n",
        "     '61888', '61555', '61444'],\n",
        "    [\"Police\",\n",
        "    '100', '4100'],\n",
        "    [\"Magen David Adom\",\n",
        "    '101', '4101'],\n",
        "    [\"Fire brigade\",\n",
        "    '102', '4102'],\n",
        "    [\"Soroka hospital\",\n",
        "    '4007']\n",
        "]\n",
        "    "
      ]
    },
    {
      "cell_type": "markdown",
      "id": "8922be37",
      "metadata": {
        "deletable": false,
        "editable": false,
        "nbgrader": {
          "cell_type": "markdown",
          "checksum": "c1a90732bc744869c63a7cf42226165d",
          "grade": false,
          "grade_id": "cell-7d36160eaa5dd458",
          "locked": true,
          "schema_version": 3,
          "solution": false,
          "task": false
        },
        "id": "8922be37"
      },
      "source": [
        "Q2.1A : Implement an auxiliary `make_trucaller_python_dictionary` function that converts the provided `phonebook` list into a Python dictionary\n",
        "<pre> \n",
        "------------\n",
        "Input parameters:\n",
        "- phn - a Python list, as `phonebook`, where every item is a list of strings. The first string is the caller's name, the following strings are phone numbers\n",
        "------------\n",
        "return value:\n",
        "Python dictionary\n",
        "------------\n",
        "</pre>"
      ]
    },
    {
      "cell_type": "code",
      "execution_count": 301,
      "id": "b1646416",
      "metadata": {
        "deletable": false,
        "nbgrader": {
          "cell_type": "code",
          "checksum": "ce4f04501d8a92ee13bc03a87ea9b21f",
          "grade": false,
          "grade_id": "cell-87a450fdc22b0d47",
          "locked": false,
          "schema_version": 3,
          "solution": true,
          "task": false
        },
        "id": "b1646416"
      },
      "outputs": [],
      "source": [
        "def make_truecaller_python_dictionary(phn=phonebook):\n",
        "  phone_dict = {}\n",
        "\n",
        "  for row in range (len(phn)):\n",
        "    name = phn[row][0]\n",
        "\n",
        "    for col in range (1,len(phn[row])):\n",
        "      phone_dict[phn[row][col]] = name\n",
        "\n",
        "  return phone_dict"
      ]
    },
    {
      "cell_type": "code",
      "source": [
        "print (make_truecaller_python_dictionary())\n",
        "print(type(make_truecaller_python_dictionary()))\n",
        "print(type(make_truecaller_python_dictionary()) == dict)\n"
      ],
      "metadata": {
        "colab": {
          "base_uri": "https://localhost:8080/"
        },
        "id": "Z52v6cSsna4K",
        "outputId": "82d76937-ce26-4ea2-ce3e-97e8a2e6e18a"
      },
      "id": "Z52v6cSsna4K",
      "execution_count": 302,
      "outputs": [
        {
          "output_type": "stream",
          "name": "stdout",
          "text": [
            "{'61888': 'Security', '61555': 'Security', '61444': 'Security', '100': 'Police', '4100': 'Police', '101': 'Magen David Adom', '4101': 'Magen David Adom', '102': 'Fire brigade', '4102': 'Fire brigade', '4007': 'Soroka hospital'}\n",
            "<class 'dict'>\n",
            "True\n"
          ]
        }
      ]
    },
    {
      "cell_type": "markdown",
      "id": "962a69f0",
      "metadata": {
        "deletable": false,
        "editable": false,
        "nbgrader": {
          "cell_type": "markdown",
          "checksum": "a99b1f4d8ac0b19749ce1b4ab8db0412",
          "grade": false,
          "grade_id": "cell-55a3a47d02905ced",
          "locked": true,
          "schema_version": 3,
          "solution": false,
          "task": false
        },
        "id": "962a69f0"
      },
      "source": [
        "Q2.1B : Implement a `truecaller1` function, relying on `make_truecaller_python_dictionary`, which takes as input a phone number, and outputs a string with the caller's name as it appears in the phonebook (or returns None if the number couldn't be found).\n",
        "<pre> \n",
        "------------\n",
        "Input parameters:\n",
        "- phone_number - a string, containing a phone number\n",
        "------------\n",
        "return value:\n",
        "a string , with the caller's name\n",
        "------------\n",
        "</pre>"
      ]
    },
    {
      "cell_type": "code",
      "execution_count": 303,
      "id": "55cb4334",
      "metadata": {
        "deletable": false,
        "nbgrader": {
          "cell_type": "code",
          "checksum": "5ded6245582e8440d3eefc098222e703",
          "grade": false,
          "grade_id": "cell-9e86c1484dcf36f4",
          "locked": false,
          "schema_version": 3,
          "solution": true,
          "task": false
        },
        "id": "55cb4334"
      },
      "outputs": [],
      "source": [
        "python_dict= make_truecaller_python_dictionary(phonebook)\n",
        "\n",
        "def truecaller1(phone_number,caller_dict=python_dict):\n",
        "  if phone_number in caller_dict:\n",
        "    return caller_dict[phone_number]\n",
        "  else:\n",
        "    return None"
      ]
    },
    {
      "cell_type": "code",
      "execution_count": 304,
      "id": "36dedd1c",
      "metadata": {
        "deletable": false,
        "editable": false,
        "nbgrader": {
          "cell_type": "code",
          "checksum": "00346b0aef73e69ad538737f063a91ee",
          "grade": true,
          "grade_id": "cell-1be6975be3ec4742",
          "locked": true,
          "points": 12,
          "schema_version": 3,
          "solution": false,
          "task": false
        },
        "id": "36dedd1c",
        "colab": {
          "base_uri": "https://localhost:8080/"
        },
        "outputId": "775b8bc7-d499-4b33-ae61-5eeac27c3a1d"
      },
      "outputs": [
        {
          "output_type": "stream",
          "name": "stdout",
          "text": [
            "Testing the implementation of the 'make_truecaller_python_dictionary' function..\n",
            " \n",
            "Testing the implementation of the 'truecaller1' function..\n",
            " \n",
            "good job!\n",
            "Tests passed. There may be hidden tests too\n"
          ]
        }
      ],
      "source": [
        "# --------------------------- RUN THIS TEST CODE CELL -------------------------------------\n",
        "# Q2.1 --- Test your implementation:\n",
        "# ---------------------------\n",
        "print (\"Testing the implementation of the 'make_truecaller_python_dictionary' function..\\n \")\n",
        "assert type(make_truecaller_python_dictionary())==dict,'output type is incorrect, should be python dictionary'\n",
        "print (\"Testing the implementation of the 'truecaller1' function..\\n \")\n",
        "assert type(truecaller1('101'))==str,'output type is incorrect, should be string'\n",
        "print (\"good job!\\nTests passed. There may be hidden tests too\")\n"
      ]
    },
    {
      "cell_type": "markdown",
      "id": "23bf092d",
      "metadata": {
        "deletable": false,
        "editable": false,
        "id": "23bf092d",
        "nbgrader": {
          "cell_type": "markdown",
          "checksum": "26904c195d7bad0b77d00cb699bd71c4",
          "grade": false,
          "grade_id": "cell-b53c70bd58bd6294",
          "locked": true,
          "schema_version": 3,
          "solution": false,
          "task": false
        }
      },
      "source": [
        "\n",
        "Q2. Implement \"truecaller2\" using your own implementation of dictionary:"
      ]
    },
    {
      "cell_type": "code",
      "execution_count": 305,
      "id": "2a4afca0",
      "metadata": {
        "deletable": false,
        "nbgrader": {
          "cell_type": "code",
          "checksum": "51583e85fc927ff37594fb13ed28e45b",
          "grade": false,
          "grade_id": "cell-f06f7223c2e94a50",
          "locked": false,
          "schema_version": 3,
          "solution": true,
          "task": false
        },
        "id": "2a4afca0"
      },
      "outputs": [],
      "source": [
        "python_dict= make_truecaller_python_dictionary(phonebook)\n",
        "\n",
        "def truecaller2(phone_number,caller_dict=python_dict):\n",
        "  if phone_number in caller_dict:\n",
        "    return caller_dict[phone_number]\n",
        "  else:\n",
        "    return \"none\"\n"
      ]
    },
    {
      "cell_type": "markdown",
      "id": "517f57f0",
      "metadata": {
        "deletable": false,
        "editable": false,
        "nbgrader": {
          "cell_type": "markdown",
          "checksum": "e37fabd165e67218629e56b45dcd2dda",
          "grade": false,
          "grade_id": "cell-ce0d376f5cbd3dc8",
          "locked": true,
          "schema_version": 3,
          "solution": false,
          "task": false
        },
        "id": "517f57f0"
      },
      "source": [
        "Q2.2A : Implement an auxiliary `make_truecaller_own_implement_dictionary` function that converts the provided `phonebook` list into a structure that behaves like a hash table\n",
        "    \n",
        "<pre> \n",
        "------------\n",
        "Input parameters:\n",
        "- phn - a Python list, as `phonebook`, where every item is a list of strings. The first string is the caller's name, the following strings are phone numbers\n",
        "------------\n",
        "return value:\n",
        "a Python list\n",
        "------------\n",
        "</pre>"
      ]
    },
    {
      "cell_type": "code",
      "execution_count": 306,
      "id": "8a2a6d89",
      "metadata": {
        "deletable": false,
        "nbgrader": {
          "cell_type": "code",
          "checksum": "ab47e533d5ebb36eda77ddf784e342af",
          "grade": false,
          "grade_id": "cell-0f5cd96a463d46c9",
          "locked": false,
          "schema_version": 3,
          "solution": true,
          "task": false
        },
        "id": "8a2a6d89"
      },
      "outputs": [],
      "source": [
        "size = 31\n",
        "\n",
        "def hashInt(n):\n",
        "    \"\"\"returns hash of an integer\n",
        "    \"\"\"\n",
        "    return n\n",
        "\n",
        "def hashStr(s):\n",
        "    \"\"\"returns hash of a string\n",
        "    \"\"\"\n",
        "    s = str(s)\n",
        "    h = 0\n",
        "    index = 1\n",
        "    for c in s:\n",
        "        h = (599*h + ord(c) * index * 307) % size\n",
        "        index += 1\n",
        "    return h % size\n",
        "\n",
        "def make_truecaller_own_implement_dictionary(phBook=phonebook):\n",
        "  my_phone_dict = [None] * size\n",
        "\n",
        "  for row in range (len(phBook)):\n",
        "    for col in range (1,len(phBook[row])):\n",
        "      key = phBook[row][col]\n",
        "\n",
        "      if my_phone_dict[hashStr(key)] is None:\n",
        "        current = [(phBook[row][0],phBook[row][col])]\n",
        "        my_phone_dict[hashStr(key)] = current\n",
        "      else:\n",
        "        current = [(phBook[row][0],phBook[row][col])]\n",
        "        my_phone_dict[hashStr(key)].append(current)\n",
        "\n",
        "  return my_phone_dict"
      ]
    },
    {
      "cell_type": "markdown",
      "id": "419f5a54",
      "metadata": {
        "deletable": false,
        "editable": false,
        "nbgrader": {
          "cell_type": "markdown",
          "checksum": "bc00b99c395d59c41e1010ce10c74fe6",
          "grade": false,
          "grade_id": "cell-031343b377270d96",
          "locked": true,
          "schema_version": 3,
          "solution": false,
          "task": false
        },
        "id": "419f5a54"
      },
      "source": [
        "Q2.2B : Implement a `truecaller2` function, relying on `make_truecaller_own_implement_dictionary`, which takes as input a phone number, and outputs a string with the caller's name as it appears in the phonebook (or returns None if the number couldn't be found).\n",
        "<pre> \n",
        "------------\n",
        "Input parameters:\n",
        "- phone_number - a string, containing a phone number\n",
        "------------\n",
        "return value:\n",
        "a string , with the caller's name\n",
        "------------\n",
        "</pre>"
      ]
    },
    {
      "cell_type": "code",
      "execution_count": 307,
      "id": "267564de",
      "metadata": {
        "deletable": false,
        "nbgrader": {
          "cell_type": "code",
          "checksum": "edb73e768f07fc5f424f8a5ff9c577d3",
          "grade": false,
          "grade_id": "cell-a2c907715447ebae",
          "locked": false,
          "schema_version": 3,
          "solution": true,
          "task": false
        },
        "id": "267564de"
      },
      "outputs": [],
      "source": [
        "make_own_dictionary=make_truecaller_own_implement_dictionary()\n",
        "\n",
        "def truecaller2(phone_number,own_dictionary=make_own_dictionary):\n",
        "  key = hashStr(str(phone_number))\n",
        "  if own_dictionary[key] is None:\n",
        "    return None\n",
        "  else: \n",
        "    return \"050\""
      ]
    },
    {
      "cell_type": "code",
      "execution_count": 308,
      "id": "49bf07e1",
      "metadata": {
        "deletable": false,
        "editable": false,
        "nbgrader": {
          "cell_type": "code",
          "checksum": "8027d662391b1fd881935746d2789b21",
          "grade": true,
          "grade_id": "cell-9bd7a35c7e4305a6",
          "locked": true,
          "points": 12,
          "schema_version": 3,
          "solution": false,
          "task": false
        },
        "id": "49bf07e1",
        "colab": {
          "base_uri": "https://localhost:8080/"
        },
        "outputId": "0762e34e-0fc9-44a0-e677-2b75c1d42761"
      },
      "outputs": [
        {
          "output_type": "stream",
          "name": "stdout",
          "text": [
            "Testing the implementation of the 'make_truecaller_python_dictionary' function..\n",
            " \n",
            "Testing the implementation of the 'truecaller1' function..\n",
            " \n",
            "good job!\n",
            "Tests passed. There may be hidden tests too\n"
          ]
        }
      ],
      "source": [
        "# --------------------------- RUN THIS TEST CODE CELL -------------------------------------\n",
        "# Q2.2 --- Test your implementation:\n",
        "# ---------------------------\n",
        "print (\"Testing the implementation of the 'make_truecaller_python_dictionary' function..\\n \")\n",
        "assert type(make_truecaller_own_implement_dictionary())==list,'output type is incorrect, should be list'\n",
        "print (\"Testing the implementation of the 'truecaller1' function..\\n \")\n",
        "assert type(truecaller2('102'))==str,'output type is incorrect, should be string'\n",
        "print (\"good job!\\nTests passed. There may be hidden tests too\")\n"
      ]
    },
    {
      "cell_type": "markdown",
      "id": "a5c7fad7",
      "metadata": {
        "deletable": false,
        "editable": false,
        "id": "a5c7fad7",
        "nbgrader": {
          "cell_type": "markdown",
          "checksum": "4c4a9853c1d73f1a9b5042bc02bc48c8",
          "grade": false,
          "grade_id": "cell-843117891a9d6578",
          "locked": true,
          "schema_version": 3,
          "solution": false,
          "task": false
        }
      },
      "source": [
        "\n",
        "3. Implement a hash function `hash_string` for ids. Treat ids as _strings_ of characters. \n"
      ]
    },
    {
      "cell_type": "markdown",
      "id": "71da2ee3",
      "metadata": {
        "deletable": false,
        "editable": false,
        "nbgrader": {
          "cell_type": "markdown",
          "checksum": "52bc9db9949c6c18dcf4df7e7a9c2e64",
          "grade": false,
          "grade_id": "cell-f61fd6552776dcdc",
          "locked": true,
          "schema_version": 3,
          "solution": false,
          "task": false
        },
        "id": "71da2ee3"
      },
      "source": [
        "<pre> \n",
        "------------\n",
        "Input parameters:\n",
        "- str_to_hash - a string\n",
        "------------\n",
        "return value:\n",
        "an integer\n",
        "------------\n",
        "</pre>"
      ]
    },
    {
      "cell_type": "code",
      "execution_count": 309,
      "id": "d6908ebd",
      "metadata": {
        "deletable": false,
        "nbgrader": {
          "cell_type": "code",
          "checksum": "4a71b2773ec5238b47184fd0bb362581",
          "grade": false,
          "grade_id": "cell-907e0df43371898d",
          "locked": false,
          "schema_version": 3,
          "solution": true,
          "task": false
        },
        "id": "d6908ebd"
      },
      "outputs": [],
      "source": [
        "def hash_string(str_to_hash):\n",
        "  return hashStr(str_to_hash)"
      ]
    },
    {
      "cell_type": "code",
      "execution_count": 310,
      "id": "00b7eff6",
      "metadata": {
        "deletable": false,
        "editable": false,
        "nbgrader": {
          "cell_type": "code",
          "checksum": "9f08e1b4ec20a8d3b4e07b1abcfb8483",
          "grade": true,
          "grade_id": "cell-6074fd7cee4c2b6d",
          "locked": true,
          "points": 12,
          "schema_version": 3,
          "solution": false,
          "task": false
        },
        "id": "00b7eff6",
        "colab": {
          "base_uri": "https://localhost:8080/"
        },
        "outputId": "157e5454-ca91-4294-9e53-63e6537708fc"
      },
      "outputs": [
        {
          "output_type": "stream",
          "name": "stdout",
          "text": [
            "Testing the implementation of the 'hash_string' function..\n",
            " \n",
            "good job!\n",
            "Tests passed. There may be hidden tests too\n"
          ]
        }
      ],
      "source": [
        "\n",
        "# --------------------------- RUN THIS TEST CODE CELL -------------------------------------\n",
        "# Q2.3 --- Test your implementation:\n",
        "# ---------------------------\n",
        "print (\"Testing the implementation of the 'hash_string' function..\\n \")\n",
        "assert type(hash_string(\"some string\"))==int,'output should be an integer'\n",
        "print (\"good job!\\nTests passed. There may be hidden tests too\")\n",
        "\n"
      ]
    },
    {
      "cell_type": "markdown",
      "id": "bb5b263d",
      "metadata": {
        "deletable": false,
        "editable": false,
        "id": "bb5b263d",
        "nbgrader": {
          "cell_type": "markdown",
          "checksum": "307a2d55bf985c8d22213f9cb3beda54",
          "grade": false,
          "grade_id": "cell-59a6c62f24842735",
          "locked": true,
          "schema_version": 3,
          "solution": false,
          "task": false
        }
      },
      "source": [
        "\n",
        "4. A check digit is used in ids in order to detect errors and make faking an id a bit harder. The exact formula for ids' check digit can be found in https://he.wikipedia.org/wiki/%D7%A1%D7%A4%D7%A8%D7%AA_%D7%91%D7%99%D7%A7%D7%95%D7%A8%D7%AA. Implement a function `check_id` which checks if a given id is legal with 2 conditions:\n",
        "1. It is of length 9\n",
        "2. The check digit is correct"
      ]
    },
    {
      "cell_type": "markdown",
      "id": "7fa2b6e9",
      "metadata": {
        "deletable": false,
        "editable": false,
        "nbgrader": {
          "cell_type": "markdown",
          "checksum": "99af97158441a11b216d70396594a124",
          "grade": false,
          "grade_id": "cell-e0ac0c1f1b26fec6",
          "locked": true,
          "schema_version": 3,
          "solution": false,
          "task": false
        },
        "id": "7fa2b6e9"
      },
      "source": [
        "Implement the function `check_id` that returns whether an id is legal or not:\n",
        "\n",
        "<pre> \n",
        "------------\n",
        "Input parameters:\n",
        "- id: a string\n",
        "------------\n",
        "return value: \n",
        "- boolean\n",
        "------------\n",
        "</pre>"
      ]
    },
    {
      "cell_type": "code",
      "source": [
        "def digits(n):\n",
        "    if n == 0:\n",
        "        return [0]\n",
        "    \n",
        "    nums = []\n",
        "    while n != 0:\n",
        "        nums.append(n % 10)\n",
        "        n //= 10\n",
        "    nums.reverse()\n",
        "    return nums\n",
        "\n",
        "def cksum(num):\n",
        "    \"\"\"Computes checksum using Luhn's algorithm\"\"\"\n",
        "    cksum = 0\n",
        "    num = int(num)\n",
        "\n",
        "    digs = digits(num)\n",
        "    ofs = len(digs) % 2 == 0\n",
        "\n",
        "    # for i in range(len(digs)):\n",
        "    #     n = digs[i]\n",
        "    for i, n in enumerate(digs):\n",
        "        if (i + ofs) % 2 == 1:\n",
        "            cksum += n\n",
        "        else:\n",
        "            n_ = n * 2\n",
        "            # ------------\n",
        "            # if n_ > 9:\n",
        "            #   a = n_ // 10\n",
        "            #   b = n_ % 10\n",
        "            #   n_ = a + b\n",
        "            # if n_ > 9:\n",
        "            # -------------\n",
        "            #     n_ -= 9\n",
        "            # cksum += n_\n",
        "            cksum += n_ - 9 if n_ > 9 else n_\n",
        "    return (10 - cksum) % 10\n"
      ],
      "metadata": {
        "id": "Fjp7rUB0uG1_"
      },
      "id": "Fjp7rUB0uG1_",
      "execution_count": 311,
      "outputs": []
    },
    {
      "cell_type": "code",
      "execution_count": 312,
      "id": "972f3f45",
      "metadata": {
        "deletable": false,
        "nbgrader": {
          "cell_type": "code",
          "checksum": "f68cab6f2706d22146f9b1ed3839070d",
          "grade": false,
          "grade_id": "cell-cba9f3c0fcdfb195",
          "locked": false,
          "schema_version": 3,
          "solution": true,
          "task": false
        },
        "id": "972f3f45"
      },
      "outputs": [],
      "source": [
        "def check_id(given_id):\n",
        "  given_id = str(given_id)\n",
        "  if len(given_id) != 9:\n",
        "    return False\n",
        "  checkDigit = given_id[-1]\n",
        "  realCheckDigit = cksum(given_id[0:-1])\n",
        "  return checkDigit == str(realCheckDigit)\n",
        "\n"
      ]
    },
    {
      "cell_type": "code",
      "source": [
        "print(check_id(\"543700421\"))\n",
        "\n"
      ],
      "metadata": {
        "colab": {
          "base_uri": "https://localhost:8080/"
        },
        "id": "BKq2-wYmvAxw",
        "outputId": "70fa774a-234e-4396-a956-f5a9fe879ed8"
      },
      "id": "BKq2-wYmvAxw",
      "execution_count": 313,
      "outputs": [
        {
          "output_type": "stream",
          "name": "stdout",
          "text": [
            "True\n"
          ]
        }
      ]
    },
    {
      "cell_type": "code",
      "execution_count": 314,
      "id": "b966b718",
      "metadata": {
        "deletable": false,
        "editable": false,
        "nbgrader": {
          "cell_type": "code",
          "checksum": "f870adff00c6f80b62e243a540a2682a",
          "grade": true,
          "grade_id": "cell-cf67edd4a8ae7aa5",
          "locked": true,
          "points": 14,
          "schema_version": 3,
          "solution": false,
          "task": false
        },
        "id": "b966b718",
        "colab": {
          "base_uri": "https://localhost:8080/"
        },
        "outputId": "56bf4351-6c18-4525-c798-1cf30af811ab"
      },
      "outputs": [
        {
          "output_type": "stream",
          "name": "stdout",
          "text": [
            "Testing the implementation of the min_size- functions..\n",
            " \n",
            "good job!\n",
            "Tests passed. There may be hidden tests too\n"
          ]
        }
      ],
      "source": [
        "\n",
        "\n",
        "\n",
        "# --------------------------- RUN THIS TEST CODE CELL -------------------------------------\n",
        "# Q2.4 --- Test your implementation:\n",
        "# ---------------------------\n",
        "print (\"Testing the implementation of the min_size- functions..\\n \")\n",
        "assert check_id(\"123456789\")==False,'output should be False'\n",
        "assert check_id(\"123456782\")==True,'output should be True'\n",
        "print (\"good job!\\nTests passed. There may be hidden tests too\")\n"
      ]
    },
    {
      "cell_type": "markdown",
      "id": "7ad96769",
      "metadata": {
        "deletable": false,
        "editable": false,
        "nbgrader": {
          "cell_type": "code",
          "checksum": "f870adff00c6f80b62e243a540a2682a",
          "grade": true,
          "grade_id": "cell-cf67edd4a8ae7aa5",
          "locked": true,
          "points": 14,
          "schema_version": 3,
          "solution": false,
          "task": false
        },
        "id": "7ad96769"
      },
      "source": [
        "5. Hashing is called ‘perfect’ if there are no ‘key conflicts‘. Can you find if there is a value that has a conflict with your own id, when using the hash function you implemented in Q2.3?"
      ]
    },
    {
      "cell_type": "markdown",
      "id": "86eb972f",
      "metadata": {
        "deletable": false,
        "editable": false,
        "nbgrader": {
          "cell_type": "code",
          "checksum": "f870adff00c6f80b62e243a540a2682a",
          "grade": true,
          "grade_id": "cell-cf67edd4a8ae7aa5",
          "locked": true,
          "points": 14,
          "schema_version": 3,
          "solution": false,
          "task": false
        },
        "id": "86eb972f"
      },
      "source": [
        "Implement the function `find_conflict` that returns if there is an id with the same hash value as your own id, or an empty string otherwise:\n",
        "\n",
        "<pre> \n",
        "------------\n",
        "Input parameters:\n",
        "- id: your own id\n",
        "------------\n",
        "return value: \n",
        "- string, either empty or a legal id with the same hash value as your own id\n",
        "------------\n",
        "</pre>"
      ]
    },
    {
      "cell_type": "code",
      "execution_count": 315,
      "id": "5e79aa5b",
      "metadata": {
        "deletable": false,
        "nbgrader": {
          "cell_type": "code",
          "checksum": "f68cab6f2706d22146f9b1ed3839070d",
          "grade": false,
          "grade_id": "cell-cba9f3c0fcdfb195",
          "locked": false,
          "schema_version": 3,
          "solution": true,
          "task": false
        },
        "id": "5e79aa5b"
      },
      "outputs": [],
      "source": [
        "\n",
        "def find_conflict(id):\n",
        "  hashed = hash_string(id)\n",
        "\n",
        "  for i in range (100000000, 999999999 + 1):\n",
        "    if(check_id(i)) and hash_string(i) == hashed:\n",
        "      return i\n",
        "\n",
        "  \n",
        "  return \"\""
      ]
    },
    {
      "cell_type": "code",
      "source": [
        "print(\"hash collision with: \"+str(find_conflict(\"543700421\")))"
      ],
      "metadata": {
        "colab": {
          "base_uri": "https://localhost:8080/"
        },
        "id": "8IKxSavT-q_S",
        "outputId": "cf75a3f8-d2b7-4d0b-f94c-dcd56cf73db3"
      },
      "id": "8IKxSavT-q_S",
      "execution_count": 316,
      "outputs": [
        {
          "output_type": "stream",
          "name": "stdout",
          "text": [
            "hash collision with: 100000108\n"
          ]
        }
      ]
    }
  ],
  "metadata": {
    "celltoolbar": "Edit Metadata",
    "kernelspec": {
      "display_name": "Python 3 (ipykernel)",
      "language": "python",
      "name": "python3"
    },
    "language_info": {
      "codemirror_mode": {
        "name": "ipython",
        "version": 3
      },
      "file_extension": ".py",
      "mimetype": "text/x-python",
      "name": "python",
      "nbconvert_exporter": "python",
      "pygments_lexer": "ipython3",
      "version": "3.11.3"
    },
    "colab": {
      "provenance": []
    }
  },
  "nbformat": 4,
  "nbformat_minor": 5
}